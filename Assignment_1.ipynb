{
  "nbformat": 4,
  "nbformat_minor": 0,
  "metadata": {
    "colab": {
      "provenance": []
    },
    "kernelspec": {
      "name": "python3",
      "display_name": "Python 3"
    },
    "language_info": {
      "name": "python"
    }
  },
  "cells": [
    {
      "cell_type": "markdown",
      "source": [
        "# **Python Basic question**"
      ],
      "metadata": {
        "id": "BtqRPLjpNLL9"
      }
    },
    {
      "cell_type": "markdown",
      "source": [
        "1. What is Python, and why is it popular?\n",
        "- Python is a general purpose, open source programming language that lets you work quickly and integrate system more effectively.\n",
        "- It is popular because:-\n",
        "   - It has lots of libraries.\n",
        "   - Used in web development, data science, machine learning, scripting, automation, and more.\n",
        "   -  Runs on Windows, macOS, Linux, and other operating systems.\n",
        "   - It is easy to write.\n",
        "\n",
        "2. What is an interpreter in Python?\n",
        "- Interpreter is a program that reads and executes code line by line. Python doesn't need to be fully translated into machine code before running. The interpreter directly translates and executes the Python code as it goes.\n",
        "\n",
        "3. What are pre-defined keywords in Python?\n",
        "- Keywords are reserved words that have special meanings and purposes. They cannot be used as variable names, function names, or any other identifier. Examples :- print, int, float, class etc.\n",
        "\n",
        "4. Can keywords be used as variable names?\n",
        "- No, keywords cannot be used as variable names.It will give syntax error.\n",
        "\n",
        "5. What is mutability in Python?\n",
        "- Objects/ containers whose state or value can be changed after they are created are called as mutable objects or containers and this phenomenon is called mutability.\n",
        "\n",
        "6. Why are lists mutable, but tuples are immutable?\n",
        "- Lists are designed for dynamic data storage where you frequently add, remove, or modify elements.Tuples are designed for situations where you want to ensure the data remains constant\n",
        "\n",
        "7. What is the difference between “==” and “is” operators in Python?\n",
        "- \"==\": Checks if the values of two objects are equal. It compares the content of the objects.\n",
        "- \"is\": Checks if two objects are the same object in memory.\n",
        "\n",
        "8. What are logical operators in Python?\n",
        "- Logical operators are used to combine or modify boolean expressions (True/False).\n",
        "  - and: Returns True if both operands are True.\n",
        "  -  or: Returns True if at least one operand is True.\n",
        "\n",
        "9. What is type casting in Python?\n",
        "- Type casting is the process of converting a variable from one data type to another. For example, converting a string to an integer or a float.\n",
        "\n",
        "10. What is the difference between implicit and explicit type casting?\n",
        "- Implicit Type Casting: Python automatically converts one data type to another without you needing to specify it. This often happens when performing operations with different types.\n",
        "\n",
        "\n",
        "\n"
      ],
      "metadata": {
        "id": "QoFSvTw0Y3ut"
      }
    },
    {
      "cell_type": "code",
      "source": [
        " x = 10\n",
        "    y = 5.5\n",
        "    z = x + y  # Implicitly converts x to float\n",
        "    print(z)   # Output: 15.5\n",
        "    print(type(z)) # Output: <class 'float'>"
      ],
      "metadata": {
        "id": "q0gqR1pMKoTn"
      },
      "execution_count": null,
      "outputs": []
    },
    {
      "cell_type": "markdown",
      "source": [
        "- Explicit Type Casting: You manually convert a data type using built-in functions like int(), float(), str(), bool(), list(), tuple(), set(), etc."
      ],
      "metadata": {
        "id": "3YtBcY_6Kvz6"
      }
    },
    {
      "cell_type": "code",
      "source": [
        " x = \"10\"\n",
        "    y = int(x)  # Explicitly converts x to an integer\n",
        "    print(y)   # Output: 10\n",
        "    print(type(y)) # Output: <class 'int'>"
      ],
      "metadata": {
        "id": "3P29l9LaKjYR"
      },
      "execution_count": null,
      "outputs": []
    },
    {
      "cell_type": "markdown",
      "source": [
        "11. What is the purpose of conditional statements in Python?\n",
        "- Conditional statements (using if, elif, else) allow you to execute different blocks of code based on whether certain conditions are true or false. This enables programs to make decisions and behave differently depending on the input or state.\n",
        "\n",
        "12.  How does the elif statement work?\n",
        "-The elif statement (short for \"else if\") is used in conditional statements to check multiple conditions in sequence. If the first if condition is false, the elif condition is checked. If the elif condition is true, its corresponding block of code is executed. You can have multiple elif statements. The else block, if present, is executed if none of the if or elif conditions are true.\n"
      ],
      "metadata": {
        "id": "5NdPC9h2LEF9"
      }
    },
    {
      "cell_type": "code",
      "execution_count": null,
      "metadata": {
        "id": "ic74deT2Y2OG"
      },
      "outputs": [],
      "source": [
        "    x = 10\n",
        "\n",
        "    if x > 10:\n",
        "        print(\"x is greater than 10\")\n",
        "    elif x < 10:\n",
        "        print(\"x is less than 10\")\n",
        "    else:\n",
        "        print(\"x is equal to 10\")"
      ]
    },
    {
      "cell_type": "markdown",
      "source": [
        "13. What is the difference between for and while loops?\n",
        "- for Loop: Typically used when you know in advance how many times you need to iterate. It iterates over a sequence (e.g., list, tuple, string) or other iterable object."
      ],
      "metadata": {
        "id": "tjOItkGxLrLF"
      }
    },
    {
      "cell_type": "code",
      "source": [
        "    for i in range(5):  # Iterate 5 times\n",
        "        print(i)"
      ],
      "metadata": {
        "id": "0lNwBkVOMIhF"
      },
      "execution_count": null,
      "outputs": []
    },
    {
      "cell_type": "markdown",
      "source": [
        "- while Loop: Typically used when you want to repeat a block of code until* a certain condition becomes false. You don't necessarily know in advance how many iterations will be needed."
      ],
      "metadata": {
        "id": "ofNPPlrrMLyO"
      }
    },
    {
      "cell_type": "code",
      "source": [
        "    count = 0\n",
        "    while count < 5:  # Continue as long as count is less than 5\n",
        "        print(count)\n",
        "        count += 1"
      ],
      "metadata": {
        "id": "9TweoVomMTbL"
      },
      "execution_count": null,
      "outputs": []
    },
    {
      "cell_type": "markdown",
      "source": [
        "14. Describe a scenario where a while loop is more suitable than a for loop.\n",
        "- A while loop is more suitable when you need to repeat a block of code until a certain condition is met, and you don't know how many iterations it will take."
      ],
      "metadata": {
        "id": "Li4RJij3MqCD"
      }
    },
    {
      "cell_type": "markdown",
      "source": [
        "#Practical Questions"
      ],
      "metadata": {
        "id": "3sm55Bs42kj3"
      }
    },
    {
      "cell_type": "code",
      "source": [
        "#1.Write a Python program to print \"Hello, World!\n",
        "print(\"Hello, World!\")"
      ],
      "metadata": {
        "colab": {
          "base_uri": "https://localhost:8080/"
        },
        "id": "X-hzYUwF2prf",
        "outputId": "0cd72b31-a045-4d16-8874-78264c24d885"
      },
      "execution_count": 10,
      "outputs": [
        {
          "output_type": "stream",
          "name": "stdout",
          "text": [
            "Hello, World!\n"
          ]
        }
      ]
    },
    {
      "cell_type": "code",
      "source": [
        "#2. Write a Python program that displays your name and age\n",
        "name = \"Mohammad Saif Samdaani\"\n",
        "age = 22\n",
        "print(f\"Name: {name}, Age: {age}\")"
      ],
      "metadata": {
        "colab": {
          "base_uri": "https://localhost:8080/"
        },
        "id": "hnqVHStl3ci-",
        "outputId": "e897e334-2d23-49fd-a1cb-17ec05e66ed4"
      },
      "execution_count": 4,
      "outputs": [
        {
          "output_type": "stream",
          "name": "stdout",
          "text": [
            "Name: Mohammad Saif Samdaani, Age: 22\n"
          ]
        }
      ]
    },
    {
      "cell_type": "code",
      "source": [
        "#3.Write code to print all the pre-defined keywords in Python using the keyword library.\n",
        "import keyword\n",
        "print(keyword.kwlist)"
      ],
      "metadata": {
        "colab": {
          "base_uri": "https://localhost:8080/"
        },
        "id": "FIRVWmTH34x8",
        "outputId": "cc1a448a-1517-4479-a987-0b221325f7ec"
      },
      "execution_count": 9,
      "outputs": [
        {
          "output_type": "stream",
          "name": "stdout",
          "text": [
            "['False', 'None', 'True', 'and', 'as', 'assert', 'async', 'await', 'break', 'class', 'continue', 'def', 'del', 'elif', 'else', 'except', 'finally', 'for', 'from', 'global', 'if', 'import', 'in', 'is', 'lambda', 'nonlocal', 'not', 'or', 'pass', 'raise', 'return', 'try', 'while', 'with', 'yield']\n"
          ]
        }
      ]
    },
    {
      "cell_type": "code",
      "source": [
        "#4.Write a program that checks if a given word is a Python keyword.\n",
        "import keyword\n",
        "word = input(\"Enter a word: \")\n",
        "if keyword.iskeyword(word):\n",
        "    print(word, \"is a Python keyword.\")\n",
        "else:\n",
        "    print(word, \"is not a Python keyword.\")"
      ],
      "metadata": {
        "colab": {
          "base_uri": "https://localhost:8080/"
        },
        "id": "OLqS5ocu54XB",
        "outputId": "d2d52431-7f34-487c-ff30-0c67594c0a10"
      },
      "execution_count": 18,
      "outputs": [
        {
          "output_type": "stream",
          "name": "stdout",
          "text": [
            "Enter a word: import\n",
            "import is a Python keyword.\n"
          ]
        }
      ]
    },
    {
      "cell_type": "code",
      "source": [
        "#5.Create a list and tuple in Python, and demonstrate how attempting to change an element works differently for each.\n",
        "my_list = [1, 2, 3]\n",
        "print(\"Old list=\",my_list)\n",
        "my_list[0] = 10\n",
        "print(\"New list=\",my_list) #new list printed\n",
        "\n",
        "my_tuple = (1, 2, 3)\n",
        "print(\"Old tuple=\",my_tuple)\n",
        "#my_tuple[0] = 10\n",
        "#print(\"New tuple=\",my_tuple) This gives an error"
      ],
      "metadata": {
        "colab": {
          "base_uri": "https://localhost:8080/"
        },
        "id": "HlE4QS2t7tRN",
        "outputId": "ebe535db-2719-47ba-99cf-6959fa2e1ff0"
      },
      "execution_count": 25,
      "outputs": [
        {
          "output_type": "stream",
          "name": "stdout",
          "text": [
            "Old list= [1, 2, 3]\n",
            "New list= [10, 2, 3]\n",
            "Old tuple= (1, 2, 3)\n"
          ]
        }
      ]
    },
    {
      "cell_type": "code",
      "source": [
        "#6. Write a function to demonstrate the behavior of mutable and immutable arguments.\n",
        "my_list = [1, 2, 3]\n",
        "my_string = \"Hello\"\n",
        "def modify_mutable(lst):\n",
        "    lst.append(4)\n",
        "def modify_immutable(str_):\n",
        "    str_ = str_ + \" World\"\n",
        "print(\"Before mutable function call:\", my_list)\n",
        "modify_mutable(my_list)\n",
        "print(\"After mutable function call:\", my_list)\n",
        "\n",
        "print(\"Before immutable function call:\", my_string)\n",
        "modify_immutable(my_string)\n",
        "print(\"After immutable function call:\", my_string)\n"
      ],
      "metadata": {
        "colab": {
          "base_uri": "https://localhost:8080/"
        },
        "id": "k0_lvBJd81Xt",
        "outputId": "a2d8bb78-67e7-4725-90ba-cb54200d1a55"
      },
      "execution_count": 26,
      "outputs": [
        {
          "output_type": "stream",
          "name": "stdout",
          "text": [
            "Before mutable function call: [1, 2, 3]\n",
            "After mutable function call: [1, 2, 3, 4]\n",
            "Before immutable function call: Hello\n",
            "After immutable function call: Hello\n"
          ]
        }
      ]
    },
    {
      "cell_type": "code",
      "source": [
        "#7.Write a program that performs basic arithmetic operations on two user-input numbers.\n",
        "a=float(input(\"Enter the first number: \"))\n",
        "b=float(input(\"Enter the second number: \"))\n",
        "add=a+b\n",
        "sub=a-b\n",
        "multiply=a*b\n",
        "div=a/b\n",
        "print(\"Addition:\",add)\n",
        "print(\"Subtraction:\",sub)\n",
        "print(\"Multiplication:\",multiply)\n",
        "print(\"Division:\",div)"
      ],
      "metadata": {
        "colab": {
          "base_uri": "https://localhost:8080/"
        },
        "id": "3aMFd3iMAkO7",
        "outputId": "9a1389ca-af2c-4171-a397-aa884fae722a"
      },
      "execution_count": 31,
      "outputs": [
        {
          "output_type": "stream",
          "name": "stdout",
          "text": [
            "Enter the first number: 4\n",
            "Enter the second number: 2\n",
            "Addition: 6.0\n",
            "Subtraction: 2.0\n",
            "Multiplication: 8.0\n",
            "Division: 2.0\n"
          ]
        }
      ]
    },
    {
      "cell_type": "code",
      "source": [
        "#8. Write a program to demonstrate the use of logical operators.\n",
        "x = 5\n",
        "y = 10\n",
        "z = 15\n",
        "print(x < y and y < z)\n",
        "print(x > y or y < z)\n",
        "print(not(x < y))"
      ],
      "metadata": {
        "colab": {
          "base_uri": "https://localhost:8080/"
        },
        "id": "C43IGKaICgTE",
        "outputId": "d9daed11-57ad-49f9-adea-1b753c9c6f02"
      },
      "execution_count": 32,
      "outputs": [
        {
          "output_type": "stream",
          "name": "stdout",
          "text": [
            "True\n",
            "True\n",
            "False\n"
          ]
        }
      ]
    },
    {
      "cell_type": "code",
      "source": [
        "#9.Write a Python program to convert user input from string to integer, float, and boolean types.\n",
        "a= input(\"Enter a value: \")\n",
        "# Try to convert to integer\n",
        "try:\n",
        "    integer_value = int(a)\n",
        "    print(\"Integer:\", integer_value)\n",
        "except ValueError:\n",
        "    print(\"Could not convert to integer.\")\n",
        "# Try to convert to float\n",
        "try:\n",
        "    float_value = float(a)\n",
        "    print(\"Float:\", float_value)\n",
        "except ValueError:\n",
        "    print(\"Could not convert to float.\")\n",
        "# Convert to boolean (any non-empty string is True)\n",
        "boolean_value = bool(a)\n",
        "print(\"Boolean:\", boolean_value)\n"
      ],
      "metadata": {
        "colab": {
          "base_uri": "https://localhost:8080/"
        },
        "id": "Jw4EpoL7C0Zm",
        "outputId": "41cec6e8-9f73-428e-df46-a69e4bcb03b3"
      },
      "execution_count": 51,
      "outputs": [
        {
          "output_type": "stream",
          "name": "stdout",
          "text": [
            "Enter a value: 4\n",
            "Integer: 4\n",
            "Float: 4.0\n",
            "Boolean: True\n"
          ]
        }
      ]
    },
    {
      "cell_type": "code",
      "source": [
        "#10. Write code to demonstrate type casting with list elements.\n",
        "my_list = [\"1\", \"2\", \"3\", \"4\"]  # List of strings\n",
        "# Convert the strings to integers\n",
        "int_list = []\n",
        "for item in my_list:\n",
        "  int_list.append(int(item))\n",
        "print(\"Original list:\", my_list)\n",
        "print(\"List of integers:\", int_list)"
      ],
      "metadata": {
        "colab": {
          "base_uri": "https://localhost:8080/"
        },
        "id": "Q6Xphzo_IMFg",
        "outputId": "78d422fa-5be4-4527-d0af-e187ec65e87b"
      },
      "execution_count": 42,
      "outputs": [
        {
          "output_type": "stream",
          "name": "stdout",
          "text": [
            "Original list: ['1', '2', '3', '4']\n",
            "List of integers: [1, 2, 3, 4]\n"
          ]
        }
      ]
    },
    {
      "cell_type": "code",
      "source": [
        "#11. Write a program that checks if a number is positive, negative, or zero.\n",
        "num = int(input(\"Enter a number: \"))\n",
        "if num > 0:\n",
        "  print(\"Positive\")\n",
        "elif num < 0:\n",
        "  print(\"Negative\")\n",
        "else:\n",
        "  print(\"Zero\")"
      ],
      "metadata": {
        "colab": {
          "base_uri": "https://localhost:8080/"
        },
        "id": "H1w2iZjsNp2m",
        "outputId": "9a139879-d055-412f-b688-087e2aaeef81"
      },
      "execution_count": 43,
      "outputs": [
        {
          "output_type": "stream",
          "name": "stdout",
          "text": [
            "Enter a number: 6\n",
            "Positive\n"
          ]
        }
      ]
    },
    {
      "cell_type": "code",
      "source": [
        "#12. Write a for loop to print numbers from 1 to 10.\n",
        "print(\"Numbers from 1 to 10:\")\n",
        "for i in range(1, 11):\n",
        "  print(i)"
      ],
      "metadata": {
        "colab": {
          "base_uri": "https://localhost:8080/"
        },
        "id": "RilZ3ERvN6Tt",
        "outputId": "8cd22927-608b-4ad2-c486-f25b9a6b15fa"
      },
      "execution_count": 44,
      "outputs": [
        {
          "output_type": "stream",
          "name": "stdout",
          "text": [
            "Numbers from 1 to 10:\n",
            "1\n",
            "2\n",
            "3\n",
            "4\n",
            "5\n",
            "6\n",
            "7\n",
            "8\n",
            "9\n",
            "10\n"
          ]
        }
      ]
    },
    {
      "cell_type": "code",
      "source": [
        "#13. Write a Python program to find the sum of all even numbers between 1 and 50.\n",
        "sum = 0\n",
        "for i in range(2, 51, 2):\n",
        "  sum = sum + i\n",
        "  print(sum)"
      ],
      "metadata": {
        "colab": {
          "base_uri": "https://localhost:8080/"
        },
        "id": "JYLPW9RMOFg9",
        "outputId": "3a0033b9-bd21-45be-ea6b-eaa5b79c37c2"
      },
      "execution_count": 47,
      "outputs": [
        {
          "output_type": "stream",
          "name": "stdout",
          "text": [
            "2\n",
            "6\n",
            "12\n",
            "20\n",
            "30\n",
            "42\n",
            "56\n",
            "72\n",
            "90\n",
            "110\n",
            "132\n",
            "156\n",
            "182\n",
            "210\n",
            "240\n",
            "272\n",
            "306\n",
            "342\n",
            "380\n",
            "420\n",
            "462\n",
            "506\n",
            "552\n",
            "600\n",
            "650\n"
          ]
        }
      ]
    },
    {
      "cell_type": "code",
      "source": [
        "#14. Write a program to reverse a string using a while loop.\n",
        "a = \"hello\"\n",
        "reverse= \"\"\n",
        "i = len(a) - 1\n",
        "while i >= 0:\n",
        "  reverse = reverse + a[i]\n",
        "  i = i - 1\n",
        "print(\"Reversed string:\", reverse)\n"
      ],
      "metadata": {
        "colab": {
          "base_uri": "https://localhost:8080/"
        },
        "id": "c87gfj3ROnWg",
        "outputId": "8955b403-7a48-473e-838d-e799139a43ea"
      },
      "execution_count": 48,
      "outputs": [
        {
          "output_type": "stream",
          "name": "stdout",
          "text": [
            "Reversed string: olleh\n"
          ]
        }
      ]
    },
    {
      "cell_type": "code",
      "source": [
        "# 15. Write a Python program to calculate the factorial of a number provided by the user using a while loop.\n",
        "num = int(input(\"Enter a number: \"))\n",
        "factorial = 1\n",
        "i = 1\n",
        "while i <= num:\n",
        "  factorial = factorial * i\n",
        "  i = i + 1\n",
        "print(\"Factorial:\", factorial)"
      ],
      "metadata": {
        "colab": {
          "base_uri": "https://localhost:8080/"
        },
        "id": "nknXpE6oPbrX",
        "outputId": "7f732c01-4d55-4e6a-89f6-4f166ce4ba47"
      },
      "execution_count": 50,
      "outputs": [
        {
          "output_type": "stream",
          "name": "stdout",
          "text": [
            "Enter a number: 5\n",
            "Factorial: 120\n"
          ]
        }
      ]
    }
  ]
}