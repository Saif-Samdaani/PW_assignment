{
  "nbformat": 4,
  "nbformat_minor": 0,
  "metadata": {
    "colab": {
      "provenance": []
    },
    "kernelspec": {
      "name": "python3",
      "display_name": "Python 3"
    },
    "language_info": {
      "name": "python"
    }
  },
  "cells": [
    {
      "cell_type": "markdown",
      "source": [
        "# **Theory question**"
      ],
      "metadata": {
        "id": "c33yxvctmZgU"
      }
    },
    {
      "cell_type": "markdown",
      "source": [
        "1. What is a RESTful API?\n",
        "  - RESTful API stands for Representational State Transfer Application Programming Interface. It is an architectural style that allows communication between different software systems by using standard HTTP methods to perform CRUD (Create, Read, Update, Delete) operations on resources.\n",
        "\n",
        "2. Explain the concept of API specification.\n",
        "  - An API specification is a document that outlines the details of how an API behaves, including the endpoints, methods, parameters, and request/response formats. It serves as a contract between API providers and consumers, ensuring that both parties understand how to interact with the API.\n",
        "\n",
        "3. What is Flask, and why is it popular for building APIs?\n",
        "  - Flask is a popular Python web framework that is lightweight and easy to use. It is commonly used for building web applications and APIs due to its simplicity and flexibility.\n",
        "\n",
        "4. What is routing in Flask?\n",
        "  - Routing in Flask refers to mapping URLs to Python functions that handle the requests. This is typically done using the `@app.route()` decorator in Flask.\n",
        "\n",
        "5. How do you create a simple Flask application?\n",
        "  -  To create a simple Flask application, you would need to define routes and corresponding functions that return responses. You can then run the Flask application using the `app.run()` method.\n",
        "\n",
        "6. What are HTTP methods used in RESTful APIs?\n",
        "  - The common HTTP methods used in RESTful APIs are GET, POST, PUT, PATCH, DELETE, OPTIONS, and HEAD. Each method has a specific purpose, such as retrieving data (GET), creating new resources (POST), updating resources (PUT, PATCH), or deleting resources (DELETE).\n",
        "\n",
        "7.  What is the purpose of the @app.route() decorator in Flask?\n",
        "  - The `@app.route()` decorator in Flask is used to bind a URL to a specific view function. It tells Flask which function to call when a specific URL is requested from the client.\n",
        "\n",
        "8. What is the difference between GET and POST HTTP methods?\n",
        "  - GET is used to retrieve data from a server without changing anything on the server side, while POST is used to send data to the server to create or update a resource. GET requests are idempotent (repeating the same request multiple times has the same effect), whereas POST requests are not.\n",
        "\n",
        "9. How do you handle errors in Flask APIs?\n",
        "  - Errors in Flask APIs can be handled by using the `@app.errorhandler()` decorator to define custom error handling functions for specific HTTP status codes or exceptions.\n",
        "\n",
        "10. How do you connect Flask to a SQL database?\n",
        "  - Flask can be connected to a SQL database by using an ORM (Object-Relational Mapping) library like Flask-SQLAlchemy or by directly using the `sqlite3` module in Python.\n",
        "\n",
        "11. What is the role of Flask-SQLAlchemy?\n",
        "  - Flask-SQLAlchemy is a Flask extension that provides integration with the SQLAlchemy ORM library, allowing Flask applications to interact with SQL databases in an object-oriented way.\n",
        "\n",
        "12. What are Flask blueprints, and how are they useful?\n",
        "  - Flask blueprints are a way to organize a Flask application into reusable modules or components. They allow you to group related routes and views together, making your code more modular and maintainable.\n",
        "\n",
        "13. What is the purpose of Flask's request object?\n",
        "  - The request object in Flask contains information about the HTTP request made by the client, including form data, query parameters, headers, and files uploaded in the request.\n",
        "\n",
        "14. How do you create a RESTful API endpoint using Flask?\n",
        "  - To create a RESTful API endpoint in Flask, you would define routes for different HTTP methods (GET, POST, PUT, DELETE) and implement the corresponding logic for each method to interact with resources.\n",
        "\n",
        "15. What is the purpose of Flask's jsonify() function?\n",
        "  - The `jsonify()` function in Flask is used to serialize Python objects into JSON format and create a JSON response for API endpoints.\n",
        "\n",
        "16.  Explain Flask’s url_for() function.\n",
        "  - The `url_for()` function in Flask is used to generate URLs for a given endpoint function. It helps in avoiding hardcoding URLs in templates and ensures that URLs are generated correctly even if the route changes.\n",
        "\n",
        "17. How does Flask handle static files (CSS, JavaScript, etc.)?\n",
        "  - Flask automatically serves static files like CSS, JavaScript, and images that are placed in the `static` folder within your Flask application directory. You can link to these static files in your templates using the `url_for('static', filename='...')` function.\n",
        "\n",
        "18. What is an API specification, and how does it help in building a Flask API?\n",
        " - An API specification, like OpenAPI (formerly known as Swagger), helps in documenting and standardizing your Flask API endpoints, parameters, responses, and error codes. It provides a clear contract between the API producer and consumers, ensuring consistency and easier integration.\n",
        "\n",
        "19. What are HTTP status codes, and why are they important in a Flask API?\n",
        "  - HTTP status codes are standardized codes sent by the server to the client to indicate the outcome of a request. They are crucial in a Flask API to convey success, errors, redirects, etc., ensuring proper communication between the client and server.\n",
        "\n",
        "20. How do you handle POST requests in Flask?\n",
        "  - You can handle POST requests in Flask routes by checking the request method (`request.method == 'POST'`) and accessing the form data using `request.form` or JSON data using `request.json`.\n",
        "\n",
        "21. How would you secure a Flask API?\n",
        " -  To secure a Flask API, you can use techniques like token-based authentication, HTTPS, input validation, rate limiting, and securing sensitive data through encryption. Flask extensions like Flask-Security can also be used for additional security measures.\n",
        "\n",
        "22. What is the significance of the Flask-RESTful extension?\n",
        "  - Flask-RESTful is an extension that simplifies the creation of REST APIs in Flask by providing features like request parsing, resource routing, and error handling. It helps in structuring your API code and improving productivity.\n",
        "\n",
        "23. What is the role of Flask’s session object?\n",
        "  - The session object in Flask allows you to store user-specific information across multiple requests. It uses cookies to maintain session data securely on the client side and is commonly used for user authentication, storing temporary data, and more in web applications.\n",
        "\n",
        "\n"
      ],
      "metadata": {
        "id": "jeNkYmwGmfwS"
      }
    },
    {
      "cell_type": "markdown",
      "source": [
        "# **Practical Questions**"
      ],
      "metadata": {
        "id": "NrTycbI7pcVp"
      }
    },
    {
      "cell_type": "code",
      "source": [
        "#1.How do you create a basic Flask application\n",
        "from flask import Flask\n",
        "\n",
        "app = Flask(__name__)\n",
        "\n",
        "@app.route('/')\n",
        "def hello_world():\n",
        "    return 'Hello, World!'"
      ],
      "metadata": {
        "id": "WZQg8eu_phv-"
      },
      "execution_count": 3,
      "outputs": []
    },
    {
      "cell_type": "code",
      "source": [
        "#2. How do you serve static files like images or CSS in Flask?\n",
        "from flask import Flask, send_from_directory\n",
        "\n",
        "app = Flask(__name__)\n",
        "\n",
        "@app.route('/static/<path:filename>')\n",
        "def serve_static(filename):\n",
        "    return send_from_directory('static', filename)"
      ],
      "metadata": {
        "id": "yIphKxOhps21"
      },
      "execution_count": 5,
      "outputs": []
    },
    {
      "cell_type": "code",
      "source": [
        "#3.How do you define different routes with different HTTP methods in Flask?\n",
        "from flask import Flask, request\n",
        "\n",
        "app = Flask(__name__)\n",
        "\n",
        "@app.route('/get', methods=['GET'])\n",
        "def get_data():\n",
        "    return 'This is a GET request.'\n"
      ],
      "metadata": {
        "id": "DReGaPu1pwoP"
      },
      "execution_count": 7,
      "outputs": []
    },
    {
      "cell_type": "code",
      "source": [
        "#4.How do you render HTML templates in Flask?\n",
        "from flask import Flask, render_template\n",
        "\n",
        "app = Flask(__name__)\n",
        "\n",
        "@app.route('/')\n",
        "def index():\n",
        "    return render_template('index.html')"
      ],
      "metadata": {
        "id": "Sq4uEW_yqEya"
      },
      "execution_count": 8,
      "outputs": []
    },
    {
      "cell_type": "code",
      "source": [
        "#5.How can you generate URLs for routes in Flask using url_for?\n",
        "from flask import Flask, url_for\n",
        "\n",
        "app = Flask(__name__)\n",
        "\n",
        "@app.route('/')\n",
        "def index():\n",
        "    return 'This is the home page.'\n",
        "\n",
        "@app.route('/about')\n",
        "def about():\n",
        "    return 'This is the about page.'"
      ],
      "metadata": {
        "id": "cdkHlJR3qFvQ"
      },
      "execution_count": 9,
      "outputs": []
    },
    {
      "cell_type": "code",
      "source": [
        "#6.How do you handle forms in Flask?\n",
        "from flask import Flask, request\n",
        "\n",
        "app = Flask(__name__)\n",
        "\n",
        "@app.route('/submit', methods=['POST'])\n",
        "def submit_form():\n",
        "    name = request.form['name']\n",
        "    email = request.form['email']"
      ],
      "metadata": {
        "id": "6axfWHY-qHEp"
      },
      "execution_count": 10,
      "outputs": []
    },
    {
      "cell_type": "code",
      "source": [
        "#7.How can you validate form data in Flask?\n",
        "from flask import Flask, request\n",
        "\n",
        "app = Flask(__name__)\n",
        "\n",
        "@app.route('/submit', methods=['POST'])\n",
        "def submit_form():\n",
        "    name = request.form['name']\n",
        "    email = request.form['email']"
      ],
      "metadata": {
        "id": "DupW2r4_qIXp"
      },
      "execution_count": 11,
      "outputs": []
    },
    {
      "cell_type": "code",
      "source": [
        "#8.How do you manage sessions in Flask?\n",
        "from flask import Flask, session\n",
        "\n",
        "app = Flask(__name__)\n",
        "app.secret_key = 'your_secret_key'\n",
        "\n",
        "@app.route('/set_session')\n",
        "def set_session():\n",
        "    session['user_id'] = 123"
      ],
      "metadata": {
        "id": "IdIlw9NUqJjX"
      },
      "execution_count": 12,
      "outputs": []
    },
    {
      "cell_type": "code",
      "source": [
        "#9.How do you redirect to a different route in Flask?\n",
        "from flask import Flask, redirect, url_for\n",
        "\n",
        "app = Flask(__name__)\n",
        "\n",
        "@app.route('/redirect')\n",
        "def redirect_to_home():\n",
        "    return redirect(url_for('home'))"
      ],
      "metadata": {
        "id": "QmIys2jhqKxF"
      },
      "execution_count": 13,
      "outputs": []
    },
    {
      "cell_type": "code",
      "source": [
        "#10.How do you handle errors in Flask (e.g., 404)?\n",
        "from flask import Flask, render_template\n",
        "\n",
        "app = Flask(__name__)\n",
        "\n",
        "@app.errorhandler(404)\n",
        "def page_not_found(error):\n",
        "    return render_template('404.html'), 404"
      ],
      "metadata": {
        "id": "V59qGF5rqL6Z"
      },
      "execution_count": 14,
      "outputs": []
    },
    {
      "cell_type": "code",
      "source": [
        "#11.How do you structure a Flask app using Blueprints?\n",
        "from flask import Flask\n",
        "from blueprints.routes import bp\n",
        "\n",
        "app = Flask(__name__)\n",
        "app.register_blueprint(bp)"
      ],
      "metadata": {
        "id": "bIg_YQNpqNId"
      },
      "execution_count": 16,
      "outputs": []
    },
    {
      "cell_type": "code",
      "source": [
        "#12.How do you define a custom Jinja filter in Flask?\n",
        "from flask import Flask\n",
        "from jinja2 import Environment, select_autoescape\n",
        "\n",
        "app = Flask(__name__)\n",
        "env = Environment(autoescape=select_autoescape())\n",
        "\n",
        "@app.template_filter('custom_filter')\n",
        "def custom_filter(value):\n",
        "    return value"
      ],
      "metadata": {
        "id": "vqN0swRaqOUb"
      },
      "execution_count": 17,
      "outputs": []
    },
    {
      "cell_type": "code",
      "source": [
        "#13.How can you redirect with query parameters in Flask?\n",
        "from flask import Flask, redirect, url_for\n",
        "\n",
        "app = Flask(__name__)\n",
        "\n",
        "@app.route('/redirect')\n",
        "def redirect_to_home():\n",
        "    return redirect(url_for('home', name='John'))"
      ],
      "metadata": {
        "id": "XHb7DM72qPuB"
      },
      "execution_count": 19,
      "outputs": []
    },
    {
      "cell_type": "code",
      "source": [
        "#14.How do you return JSON responses in Flask?\n",
        "from flask import Flask, jsonify\n",
        "\n",
        "app = Flask(__name__)\n",
        "\n",
        "@app.route('/api/data')\n",
        "def get_data():\n",
        "    data = {'message': 'Hello, Flask!'}\n",
        "    return jsonify(data)\n"
      ],
      "metadata": {
        "id": "4ckTBDyPqSoK"
      },
      "execution_count": 20,
      "outputs": []
    },
    {
      "cell_type": "code",
      "source": [
        "#15.How do you capture URL parameters in Flask?\n",
        "from flask import Flask, request\n",
        "\n",
        "app = Flask(__name__)\n",
        "\n",
        "@app.route('/user/<username>')\n",
        "def user_profile(username):\n",
        "    return f'Hello, {username}!'"
      ],
      "metadata": {
        "id": "T-vWiyCiqT5F"
      },
      "execution_count": 21,
      "outputs": []
    }
  ]
}