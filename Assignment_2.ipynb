{
  "nbformat": 4,
  "nbformat_minor": 0,
  "metadata": {
    "colab": {
      "provenance": []
    },
    "kernelspec": {
      "name": "python3",
      "display_name": "Python 3"
    },
    "language_info": {
      "name": "python"
    }
  },
  "cells": [
    {
      "cell_type": "markdown",
      "source": [
        "# **Theory Questions**"
      ],
      "metadata": {
        "id": "2oYmaGNwdqNz"
      }
    },
    {
      "cell_type": "markdown",
      "source": [
        "1. What are data structures, and why are they important?\n",
        "  - Data structures in Python are specialized formats or containers used to store and organize data efficiently. They are important because provide various ways to store, access, and manipulate data according to specific needs.\n",
        "\n",
        "2. Explain the difference between mutable and immutable data types with examples.\n",
        "\n",
        "  - Mutable: Mutable data types can be changed after they are created. We can modify their contents without creating a new object.\n",
        "    *  Examples: Lists, dictionaries, sets."
      ],
      "metadata": {
        "id": "akpSNJLLNJJe"
      }
    },
    {
      "cell_type": "code",
      "source": [
        "my_list = [1, 2, 3]\n",
        "my_list.append(4)  # Modifies the list in place\n",
        "print(my_list)  # Output: [1, 2, 3, 4]"
      ],
      "metadata": {
        "colab": {
          "base_uri": "https://localhost:8080/"
        },
        "id": "e_RCGs7QPJNR",
        "outputId": "84dadd31-3e77-41a7-a1fe-6da615827f63"
      },
      "execution_count": null,
      "outputs": [
        {
          "output_type": "stream",
          "name": "stdout",
          "text": [
            "[1, 2, 3, 4]\n"
          ]
        }
      ]
    },
    {
      "cell_type": "markdown",
      "source": [
        "- Immutable: Immutable data types cannot be changed after they are created. Any modification effectively creates a new* object.\n",
        "    *  Examples: Tuples, strings, numbers (int, float, complex)."
      ],
      "metadata": {
        "id": "vEvljb3vP0yF"
      }
    },
    {
      "cell_type": "code",
      "source": [
        "my_tuple = (1, 2, 3)\n",
        "# my_tuple[0] = 4  # This would raise a TypeError: 'tuple' object does not support item assignment\n",
        "my_string = \"hello\"\n",
        "# my_string[0] = 'H' # This would raise a TypeError: 'str' object does not support item assignment"
      ],
      "metadata": {
        "id": "kWLcxFwqP_W4"
      },
      "execution_count": null,
      "outputs": []
    },
    {
      "cell_type": "markdown",
      "source": [
        "3. What are the main differences between lists and tuples in Python?\n",
        "- Lists are mutable, which means you can change their contents after creation.Tuples are similar to lists, but they are immutable.\n",
        "\n",
        "4. Describe how dictionaries store data.\n",
        "- Dictionaries are key-value pairs that allow you to store and retrieve data based on a unique key. The keys must be immutable, such as strings or numbers. Dictionaries are useful for storing data that needs to be accessed quickly and efficiently."
      ],
      "metadata": {
        "id": "qXQ0Z5UUQMrj"
      }
    },
    {
      "cell_type": "code",
      "source": [
        "my_dict = {'Course': 'PWIOI', 'Duration': 2, 'city': 'Banglore'}\n",
        "print(my_dict)\n",
        "type(my_dict)"
      ],
      "metadata": {
        "colab": {
          "base_uri": "https://localhost:8080/"
        },
        "id": "q9VENZPTSA2z",
        "outputId": "c9c874df-398f-4da0-f448-5a6665d28091"
      },
      "execution_count": null,
      "outputs": [
        {
          "output_type": "stream",
          "name": "stdout",
          "text": [
            "{'Course': 'PWIOI', 'Duration': 2, 'city': 'Banglore'}\n"
          ]
        },
        {
          "output_type": "execute_result",
          "data": {
            "text/plain": [
              "dict"
            ]
          },
          "metadata": {},
          "execution_count": 13
        }
      ]
    },
    {
      "cell_type": "markdown",
      "source": [
        "5. Why might you use a set instead of a list in Python?\n",
        "- Sets automatically store only unique elements. If you need to eliminate duplicates from a collection, a set is ideal.Sets are very efficient for checking if an element exists (using the in keyword).\n",
        "\n",
        "6. What is a string in Python, and how is it different from a list?\n",
        "- String: A string is an immutable sequence of characters (text). It's used to represent textual data.\n",
        "- List: A list is a mutable sequence of items. It can hold elements of various data types (including other lists).\n",
        "\n",
        "7. How do tuples ensure data integrity in Python?\n",
        "- Tuples are immutable. This means that once a tuple is created, its contents cannot be changed. This immutability provides data integrity.\n",
        "\n",
        "8. What is a hash table, and how does it relate to dictionaries in Python?\n",
        "- A hash table (also called a hash map) is a data structure that uses a hash function to map keys to their corresponding values.\n",
        "- Dictionaries are implemented using hash tables. The keys of a dictionary are passed through a hash function to determine where the values are stored.\n",
        "\n",
        "9. Can lists contain different data types in Python?\n",
        "-  Yes, lists in Python can contain elements of different data types (integers, strings, floats, even other lists, and more).\n"
      ],
      "metadata": {
        "id": "3UNmQnJNSU3E"
      }
    },
    {
      "cell_type": "code",
      "source": [
        "my_list = [1, \"hello\", 3.14, [4, 5]]\n",
        "print(my_list)"
      ],
      "metadata": {
        "colab": {
          "base_uri": "https://localhost:8080/"
        },
        "id": "pKeaUzxNWSW8",
        "outputId": "f3cb9ece-f1ea-4e59-9f25-6c06f428ea6f"
      },
      "execution_count": null,
      "outputs": [
        {
          "output_type": "stream",
          "name": "stdout",
          "text": [
            "[1, 'hello', 3.14, [4, 5]]\n"
          ]
        }
      ]
    },
    {
      "cell_type": "markdown",
      "source": [
        "10. Explain why strings are immutable in Python.\n",
        "- Immutability helps maintain data integrity. The string contents can't be accidentally altered, leading to less likely errors."
      ],
      "metadata": {
        "id": "pPcKV-brWWEe"
      }
    },
    {
      "cell_type": "markdown",
      "source": [
        "11. What advantages do dictionaries offer over lists for certain tasks?\n",
        "- Dictionaries provide extremely fast lookups because they use keys to directly locate values (using a hash table). Lists require you to iterate through elements to find a value.\n",
        "- Dictionaries allow you to associate values with descriptive keys, making your code more readable and easier to understand. Lists only store data by index.\n",
        "\n",
        "12.> ChatGPT4 | Midjourney:\n",
        "10. Explain why strings are immutable in Python.\n",
        "\n",
        "  Strings are immutable in Python for several reasons, primarily related to:\n",
        "\n",
        "  •  Efficiency and Performance: Immutability allows Python to optimize how strings are stored and managed in memory. Because strings can't be changed, Python can often reuse string objects, saving memory and improving performance.\n",
        "  •  Thread Safety: In multi-threaded programs, immutable objects are inherently thread-safe. Multiple threads can safely access a string without worrying about one thread modifying it while another is reading it.\n",
        "  •  Caching and Optimization: The interpreter can cache and optimize string operations, as it knows the contents will not change.\n",
        "  •  Data Integrity: Immutability helps maintain data integrity. The string contents can't be accidentally altered, leading to less likely errors.\n",
        "\n",
        "11. What advantages do dictionaries offer over lists for certain tasks?\n",
        "\n",
        "  •  Fast Lookup by Key: Dictionaries provide extremely fast lookups (on average, O(1) time complexity) because they use keys to directly locate values (using a hash table). Lists require you to iterate through elements to find a value (O(n) time complexity).\n",
        "  •  Meaningful Data Organization: Dictionaries allow you to associate values with descriptive keys, making your code more readable and easier to understand. Lists only store data by index.\n",
        "  •  Flexible Data Structures: Dictionaries are perfect for representing data where you have a key and a corresponding value, such as configuration settings, student records (with names, ages, grades, etc.), or any situation where you want to look up information by a specific identifier.\n",
        "\n",
        "12. How do sets handle duplicate values in Python?\n",
        "- Sets automatically eliminate duplicate values. When you add an element to a set, if that element already exists in the set, the set does not add a second copy. Sets only store unique elements."
      ],
      "metadata": {
        "id": "NIji4vH0WvFU"
      }
    },
    {
      "cell_type": "code",
      "source": [
        "my_set = {1, 2, 2, 3, 3, 3}\n",
        "print(my_set)  # Output: {1, 2, 3} - duplicates are gone"
      ],
      "metadata": {
        "colab": {
          "base_uri": "https://localhost:8080/"
        },
        "id": "zp34LOWfX4zz",
        "outputId": "17f94f86-48f1-46d4-9b6a-8d2efafc9d73"
      },
      "execution_count": null,
      "outputs": [
        {
          "output_type": "stream",
          "name": "stdout",
          "text": [
            "{1, 2, 3}\n"
          ]
        }
      ]
    },
    {
      "cell_type": "markdown",
      "source": [
        "13. Describe a scenario where using a tuple would be preferable over a list.\n",
        "- When Data Integrity is Crucial that is we need to ensure the data remains unchanged (e.g., coordinates, configuration settings).\n",
        "- When we need to use the collection as a key in a dictionary (because only immutable types can be dictionary keys).\n",
        "\n",
        "14. How does the “in” keyword work differently for lists and dictionaries?\n",
        "- Lists: The in keyword checks if an element is present in the list. It iterates through the list to find the element.\n",
        "- Dictionaries: The in keyword checks if a key is present in the dictionary. It uses the hash table implementation to perform a very fast lookup.\n",
        "\n",
        "   "
      ],
      "metadata": {
        "id": "qtGefWApX7mX"
      }
    },
    {
      "cell_type": "code",
      "source": [
        "my_list = [1, 2, 3]\n",
        "print(2 in my_list)  # True\n",
        "print(4 in my_list)  # False\n",
        "\n",
        "my_dict = {\"a\": 1, \"b\": 2}\n",
        "print(\"a\" in my_dict)  # True (checks for key \"a\")\n",
        "print(1 in my_dict)  # False (checks for key \"1\", NOT the value 1)"
      ],
      "metadata": {
        "colab": {
          "base_uri": "https://localhost:8080/"
        },
        "id": "14awQYJqkkke",
        "outputId": "de6c7637-17aa-4a78-fbf5-28923dee7c2c"
      },
      "execution_count": null,
      "outputs": [
        {
          "output_type": "stream",
          "name": "stdout",
          "text": [
            "True\n",
            "False\n",
            "True\n",
            "False\n"
          ]
        }
      ]
    },
    {
      "cell_type": "markdown",
      "source": [
        "15. Can you modify the elements of a tuple? Explain why or why not.\n",
        "- No, you cannot modify the elements of a tuple directly. Tuples are immutable. This means their contents are fixed after creation. Attempting to change an element results in a TypeError.\n",
        "\n",
        "16. What is a nested dictionary, and give an example of its use case?\n",
        "- A nested dictionary is a dictionary where the values of the dictionary are themselves dictionaries. This allows you to create hierarchical data structures."
      ],
      "metadata": {
        "id": "rJ5w-P31o9sK"
      }
    },
    {
      "cell_type": "code",
      "source": [
        "nested_dict = {\n",
        "    \"fruits\": {\n",
        "        \"apple\": 3,\n",
        "        \"banana\": 5,\n",
        "        \"orange\": 2\n",
        "              },\n",
        "    \"vegetables\": {\n",
        "        \"carrot\": 7,\n",
        "        \"broccoli\": 4,\n",
        "        \"spinach\": 6\n",
        "                  }\n",
        "}"
      ],
      "metadata": {
        "id": "4yBiuK-7pUYh"
      },
      "execution_count": null,
      "outputs": []
    },
    {
      "cell_type": "markdown",
      "source": [
        "17. Describe the time complexity of accessing elements in a dictionary.\n",
        "- The time complexity of accessing an element in a dictionary is, on average, O(1) (constant time). This means that the time it takes to access an element does not depend on the number of elements in the dictionary. This fast performance is due to the hash table implementation.\n",
        "\n",
        "18. In what situations are lists preferred over dictionaries?\n",
        "- Lists are preferred over dictionaries when:\n",
        "  \n",
        " - Order Matters: The order of elements is important (e.g., a sequence of events, a list of items in a specific order).\n",
        "  -  You Need to Store Ordered Collections: You need to store a collection of items where you'll be accessing items by their index (e.g., getting the third element).\n",
        "  - Duplication is Allowed: You need to store duplicate values.Dictionaries require unique keys.\n",
        "  -  Simple, Sequential Data: You're working with a simple sequence of data where you don't need to associate keys with values.\n",
        "  -  Memory Efficiency is Critical: For very large, simple lists of items, lists might be slightly more memory-efficient than dictionaries (although the difference is often negligible).\n",
        "\n",
        "19. Why are dictionaries considered unordered, and how does that affect data retrieval?\n",
        "-Dictionaries are considered unordered because the elements (key-value pairs) are not stored in a specific, predictable sequence. They're stored based on the hash values of the keys. This means that the order in which you add items to a dictionary is not guaranteed to be the order in which you retrieve them.\n",
        "  - Effect on Data Retrieval: You retrieve data from a dictionary using keys, not by index or position (like you would with a list). The order in which you retrieve data is not consistent, but the retrieval itself is very fast (because of the hash table). You can iterate through a dictionary, but the order of iteration is not guaranteed to be the order you added the elements.\n",
        "\n",
        "20. Explain the difference between a list and a dictionary in terms of data retrieval.\n",
        "-  List: Data retrieval in a list is done by index (position). You know the position of the element you are looking for and fetch it. The time complexity for accessing an element in a list is O(1).\n",
        "- Dictionary: Data retrieval in a dictionary is done by key. You specify the key associated with the value you want to retrieve. This is generally much faster than searching a list, because dictionaries use hash tables, which give you average O(1) time complexity. The order is not guaranteed.\n"
      ],
      "metadata": {
        "id": "c4FXKzworp94"
      }
    },
    {
      "cell_type": "markdown",
      "source": [
        "# **Practical Questions**"
      ],
      "metadata": {
        "id": "Im4qtpLddegF"
      }
    },
    {
      "cell_type": "code",
      "source": [
        "#1.Write a code to create a string with your name and print it.\n",
        "import random\n",
        "my_name = \"Mohammad Saif Samdaani\"\n",
        "print(my_name)"
      ],
      "metadata": {
        "colab": {
          "base_uri": "https://localhost:8080/"
        },
        "id": "eVJ8m4KufIDo",
        "outputId": "d0bfaca5-32e8-41d5-a064-076ec9206114"
      },
      "execution_count": null,
      "outputs": [
        {
          "output_type": "stream",
          "name": "stdout",
          "text": [
            "Mohammad Saif Samdaani\n"
          ]
        }
      ]
    },
    {
      "cell_type": "code",
      "source": [
        "#2.Write a code to find the length of the string \"Hello World\"\n",
        "my_string = \"Hello World\"\n",
        "print(len(my_string))"
      ],
      "metadata": {
        "colab": {
          "base_uri": "https://localhost:8080/"
        },
        "id": "ah3nriOGfVpE",
        "outputId": "dc130698-2fdb-4bcf-ce12-be3898d5a634"
      },
      "execution_count": null,
      "outputs": [
        {
          "output_type": "stream",
          "name": "stdout",
          "text": [
            "11\n"
          ]
        }
      ]
    },
    {
      "cell_type": "code",
      "source": [
        "#3.Write a code to slice the first 3 characters from the string \"Python Programming\"\n",
        "my_string = \"Python Programming\"\n",
        "print(my_string[:3])"
      ],
      "metadata": {
        "colab": {
          "base_uri": "https://localhost:8080/"
        },
        "id": "RDF59je6fiGH",
        "outputId": "d88475ed-3189-4c8b-8e7b-a5dc54a28d30"
      },
      "execution_count": null,
      "outputs": [
        {
          "output_type": "stream",
          "name": "stdout",
          "text": [
            "Pyt\n"
          ]
        }
      ]
    },
    {
      "cell_type": "code",
      "source": [
        " #4.Write a code to convert the string \"hello\" to uppercase\n",
        " my_string = \"hello\"\n",
        " print(my_string.upper())"
      ],
      "metadata": {
        "colab": {
          "base_uri": "https://localhost:8080/"
        },
        "id": "wweWMW_Vf8T5",
        "outputId": "c4a7422a-e8a4-4496-dd12-a2c19424b93a"
      },
      "execution_count": null,
      "outputs": [
        {
          "output_type": "stream",
          "name": "stdout",
          "text": [
            "HELLO\n"
          ]
        }
      ]
    },
    {
      "cell_type": "code",
      "source": [
        "#5.Write a code to replace the word \"apple\" with \"orange\" in the string \"I like apple\"\n",
        "my_string = \"I like apple\"\n",
        "print(my_string.replace(\"apple\",\"orange\"))"
      ],
      "metadata": {
        "colab": {
          "base_uri": "https://localhost:8080/"
        },
        "id": "ygHD58BQgEhq",
        "outputId": "993cfdeb-0d1f-494c-ba62-72cf0f821c7e"
      },
      "execution_count": null,
      "outputs": [
        {
          "output_type": "stream",
          "name": "stdout",
          "text": [
            "I like orange\n"
          ]
        }
      ]
    },
    {
      "cell_type": "code",
      "source": [
        "#6. Write a code to create a list with numbers 1 to 5 and print it\n",
        "my_list = [1,2,3,4,5]\n",
        "print(my_list)"
      ],
      "metadata": {
        "colab": {
          "base_uri": "https://localhost:8080/"
        },
        "id": "_obiiQdUy2XD",
        "outputId": "f2a796e6-89f0-4c07-def5-9eca58f0bfae"
      },
      "execution_count": null,
      "outputs": [
        {
          "output_type": "stream",
          "name": "stdout",
          "text": [
            "[1, 2, 3, 4, 5]\n"
          ]
        }
      ]
    },
    {
      "cell_type": "code",
      "source": [
        "#7.Write a code to append the number 10 to the list [1, 2, 3, 4]\n",
        "my_list = [1,2,3,4]\n",
        "my_list.append(10)\n",
        "print(my_list)"
      ],
      "metadata": {
        "colab": {
          "base_uri": "https://localhost:8080/"
        },
        "id": "f68DzlcRzbys",
        "outputId": "df89dec8-f975-459a-ebd9-daacadb085a8"
      },
      "execution_count": null,
      "outputs": [
        {
          "output_type": "stream",
          "name": "stdout",
          "text": [
            "[1, 2, 3, 4, 10]\n"
          ]
        }
      ]
    },
    {
      "cell_type": "code",
      "source": [
        "#8.Write a code to remove the number 3 from the list [1, 2, 3, 4, 5]\n",
        "my_list = [1,2,3,4,5]\n",
        "my_list.remove(3)\n",
        "print(my_list)"
      ],
      "metadata": {
        "colab": {
          "base_uri": "https://localhost:8080/"
        },
        "id": "unlsC0BXzvKZ",
        "outputId": "d0b1ae6b-06ad-498a-db22-91adf2dfce36"
      },
      "execution_count": null,
      "outputs": [
        {
          "output_type": "stream",
          "name": "stdout",
          "text": [
            "[1, 2, 4, 5]\n"
          ]
        }
      ]
    },
    {
      "cell_type": "code",
      "source": [
        "#9.Write a code to access the second element in the list ['a', 'b', 'c', 'd']\n",
        "my_list = ['a', 'b', 'c', 'd']\n",
        "print(my_list[1])"
      ],
      "metadata": {
        "colab": {
          "base_uri": "https://localhost:8080/"
        },
        "id": "i1Pr7GAZ0BIU",
        "outputId": "db407158-e43f-4879-d214-440210749fd0"
      },
      "execution_count": null,
      "outputs": [
        {
          "output_type": "stream",
          "name": "stdout",
          "text": [
            "b\n"
          ]
        }
      ]
    },
    {
      "cell_type": "code",
      "source": [
        "#10.Write a code to reverse the list [10, 20, 30, 40, 50].\n",
        "my_list = [10, 20, 30, 40, 50]\n",
        "print(my_list[::-1])"
      ],
      "metadata": {
        "colab": {
          "base_uri": "https://localhost:8080/"
        },
        "id": "ZgDZW1we0Wmu",
        "outputId": "4d8344fc-a862-4538-ce3a-afac31c259a5"
      },
      "execution_count": null,
      "outputs": [
        {
          "output_type": "stream",
          "name": "stdout",
          "text": [
            "[50, 40, 30, 20, 10]\n"
          ]
        }
      ]
    },
    {
      "cell_type": "code",
      "source": [
        "#11. Write a code to create a tuple with the elements 100, 200, 300 and print it.\n",
        "my_tuple = (100,200,300)\n",
        "print(my_tuple)"
      ],
      "metadata": {
        "colab": {
          "base_uri": "https://localhost:8080/"
        },
        "id": "c38krXRk0qAE",
        "outputId": "23188f31-f069-4142-f468-8a9c1f0959e7"
      },
      "execution_count": null,
      "outputs": [
        {
          "output_type": "stream",
          "name": "stdout",
          "text": [
            "(100, 200, 300)\n"
          ]
        }
      ]
    },
    {
      "cell_type": "code",
      "source": [
        "#12. Write a code to access the second-to-last element of the tuple ('red', 'green', 'blue', 'yellow').\n",
        "my_tuple =('red', 'green', 'blue', 'yellow')\n",
        "print(my_tuple[1:])"
      ],
      "metadata": {
        "colab": {
          "base_uri": "https://localhost:8080/"
        },
        "id": "ZXMgUQad1unh",
        "outputId": "14cfec4c-5bd3-4a8e-dade-e090870de9da"
      },
      "execution_count": null,
      "outputs": [
        {
          "output_type": "stream",
          "name": "stdout",
          "text": [
            "('green', 'blue', 'yellow')\n"
          ]
        }
      ]
    },
    {
      "cell_type": "code",
      "source": [
        "#13. Write a code to find the minimum number in the tuple (10, 20, 5, 15).\n",
        "my_tuple = (10, 20, 5, 15)\n",
        "print(min(my_tuple))"
      ],
      "metadata": {
        "colab": {
          "base_uri": "https://localhost:8080/"
        },
        "id": "7k3XLzCn2q-g",
        "outputId": "decb1aae-fc4a-4f34-fc06-d4fc27344282"
      },
      "execution_count": null,
      "outputs": [
        {
          "output_type": "stream",
          "name": "stdout",
          "text": [
            "5\n"
          ]
        }
      ]
    },
    {
      "cell_type": "code",
      "source": [
        "#14.Write a code to find the index of the element \"cat\" in the tuple ('dog', 'cat', 'rabbit').\n",
        "my_tuple = ('dog','cat','rabbit')\n",
        "print(my_tuple.index('cat'))"
      ],
      "metadata": {
        "colab": {
          "base_uri": "https://localhost:8080/"
        },
        "id": "KMJqys_k253n",
        "outputId": "af4c9f5d-03de-4a8e-f4b7-bc1fa757d2c7"
      },
      "execution_count": null,
      "outputs": [
        {
          "output_type": "stream",
          "name": "stdout",
          "text": [
            "1\n"
          ]
        }
      ]
    },
    {
      "cell_type": "code",
      "source": [
        "#15. Write a code to create a tuple containing three different fruits and check if \"kiwi\" is in it.\n",
        "my_tuple = ('Mango','Apple','Banana')\n",
        "print('kiwi'in my_tuple)"
      ],
      "metadata": {
        "colab": {
          "base_uri": "https://localhost:8080/"
        },
        "id": "8aZvQR9j34GW",
        "outputId": "2f5a8bf8-1477-45c9-c76d-f49b6349be74"
      },
      "execution_count": null,
      "outputs": [
        {
          "output_type": "stream",
          "name": "stdout",
          "text": [
            "False\n"
          ]
        }
      ]
    },
    {
      "cell_type": "code",
      "source": [
        "#16. Write a code to create a set with the elements 'a', 'b', 'c' and print it.\n",
        "my_set = {'a','b','c'}\n",
        "print(my_set)"
      ],
      "metadata": {
        "colab": {
          "base_uri": "https://localhost:8080/"
        },
        "id": "pj_DCHR24Z-M",
        "outputId": "7804f0b4-4150-459f-8110-63da4eedb261"
      },
      "execution_count": null,
      "outputs": [
        {
          "output_type": "stream",
          "name": "stdout",
          "text": [
            "{'a', 'c', 'b'}\n"
          ]
        }
      ]
    },
    {
      "cell_type": "code",
      "source": [
        "#17. Write a code to clear all elements from the set {1, 2, 3, 4, 5}.\n",
        "my_set = {1, 2, 3, 4, 5}\n",
        "my_set.clear()\n",
        "print(my_set)"
      ],
      "metadata": {
        "colab": {
          "base_uri": "https://localhost:8080/"
        },
        "id": "CE8irldN4wWn",
        "outputId": "5a6f9bba-99ab-422e-d890-904af2888315"
      },
      "execution_count": null,
      "outputs": [
        {
          "output_type": "stream",
          "name": "stdout",
          "text": [
            "set()\n"
          ]
        }
      ]
    },
    {
      "cell_type": "code",
      "source": [
        "#18. Write a code to remove the element 4 from the set {1, 2, 3, 4}\n",
        "my_set = {1,2,3,4}\n",
        "my_set.remove(4)\n",
        "print(my_set)"
      ],
      "metadata": {
        "colab": {
          "base_uri": "https://localhost:8080/"
        },
        "id": "DLzPAzGR5VfO",
        "outputId": "6c0da5f8-7ab2-4789-e832-0f5c16322393"
      },
      "execution_count": null,
      "outputs": [
        {
          "output_type": "stream",
          "name": "stdout",
          "text": [
            "{1, 2, 3}\n"
          ]
        }
      ]
    },
    {
      "cell_type": "code",
      "source": [
        "#19. Write a code to find the union of two sets {1, 2, 3} and {3, 4, 5}.\n",
        "set1 = {1,2,3}\n",
        "set2 = {3,4,5}\n",
        "print(set1.union(set2))"
      ],
      "metadata": {
        "colab": {
          "base_uri": "https://localhost:8080/"
        },
        "id": "7KiC2XWg5m6i",
        "outputId": "45f5fec1-8026-42de-eead-608197b3cdaf"
      },
      "execution_count": null,
      "outputs": [
        {
          "output_type": "stream",
          "name": "stdout",
          "text": [
            "{1, 2, 3, 4, 5}\n"
          ]
        }
      ]
    },
    {
      "cell_type": "code",
      "source": [
        " #20. Write a code to find the intersection of two sets {1, 2, 3} and {2, 3, 4}.\n",
        "set1 = {1,2,3}\n",
        "set2 = {3,4,5}\n",
        "print(set1.intersection(set2))"
      ],
      "metadata": {
        "colab": {
          "base_uri": "https://localhost:8080/"
        },
        "id": "qI3jKSwU7y-b",
        "outputId": "6e89943a-71fb-4d30-f7fa-8596c887664e"
      },
      "execution_count": null,
      "outputs": [
        {
          "output_type": "stream",
          "name": "stdout",
          "text": [
            "{3}\n"
          ]
        }
      ]
    },
    {
      "cell_type": "code",
      "source": [
        "# 21. Write a code to create a dictionary with the keys \"name\", \"age\", and \"city\", and print it.\n",
        "my_dict = {'name':'Saif','age':22,'city':'Bhagalpur'}\n",
        "print(my_dict)\n"
      ],
      "metadata": {
        "id": "jvNCeM2w8E5M",
        "colab": {
          "base_uri": "https://localhost:8080/"
        },
        "outputId": "b8708fc2-6470-467d-d4ad-a98e74b10f48"
      },
      "execution_count": 2,
      "outputs": [
        {
          "output_type": "stream",
          "name": "stdout",
          "text": [
            "{'name': 'Saif', 'age': 22, 'city': 'Bhagalpur'}\n"
          ]
        }
      ]
    },
    {
      "cell_type": "code",
      "source": [
        "#22. Write a code to add a new key-value pair \"country\": \"USA\" to the dictionary {'name': 'John', 'age': 25}.\n",
        "my_dict = {'name': 'John', 'age': 25}\n",
        "my_dict['country'] = 'USA'\n",
        "print(my_dict)"
      ],
      "metadata": {
        "colab": {
          "base_uri": "https://localhost:8080/"
        },
        "id": "t51Xi8j3yJuC",
        "outputId": "139f824e-e1f8-4503-fc89-96d73fffeab0"
      },
      "execution_count": 3,
      "outputs": [
        {
          "output_type": "stream",
          "name": "stdout",
          "text": [
            "{'name': 'John', 'age': 25, 'country': 'USA'}\n"
          ]
        }
      ]
    },
    {
      "cell_type": "code",
      "source": [
        "#23. Write a code to access the value associated with the key \"name\" in the dictionary {'name': 'Alice', 'age': 30}.\n",
        "my_dict = {'name': 'Alice', 'age': 30}\n",
        "print(my_dict['name'])"
      ],
      "metadata": {
        "colab": {
          "base_uri": "https://localhost:8080/"
        },
        "id": "66YCbQlyydeu",
        "outputId": "081759ca-1f8b-42c2-a409-dca36573defc"
      },
      "execution_count": 4,
      "outputs": [
        {
          "output_type": "stream",
          "name": "stdout",
          "text": [
            "Alice\n"
          ]
        }
      ]
    },
    {
      "cell_type": "code",
      "source": [
        "#24. Write a code to remove the key \"age\" from the dictionary {'name': 'Bob', 'age': 22, 'city': 'New York'}.\n",
        "my_dict = {'name': 'Bob', 'age': 22, 'city': 'New York'}\n",
        "my_dict.pop('age')\n",
        "print(my_dict)"
      ],
      "metadata": {
        "colab": {
          "base_uri": "https://localhost:8080/"
        },
        "id": "E__cl3_Yyj8x",
        "outputId": "960fd1a7-9cac-47cf-fdd8-c6047456727f"
      },
      "execution_count": 6,
      "outputs": [
        {
          "output_type": "stream",
          "name": "stdout",
          "text": [
            "{'name': 'Bob', 'city': 'New York'}\n"
          ]
        }
      ]
    },
    {
      "cell_type": "code",
      "source": [
        "# 25. Write a code to check if the key \"city\" exists in the dictionary {'name': 'Alice', 'city': 'Paris'}.\n",
        "my_dict = {'name': 'Alice', 'city': 'Paris'}\n",
        "print('city' in my_dict)"
      ],
      "metadata": {
        "colab": {
          "base_uri": "https://localhost:8080/"
        },
        "id": "sDTNjD-Ayw44",
        "outputId": "3e230560-ce25-4850-d773-cdf0fb42a4f3"
      },
      "execution_count": 7,
      "outputs": [
        {
          "output_type": "stream",
          "name": "stdout",
          "text": [
            "True\n"
          ]
        }
      ]
    },
    {
      "cell_type": "code",
      "source": [
        "#26. Write a code to create a list, a tuple, and a dictionary, and print them all.\n",
        "my_list = [1,2,3,4]\n",
        "my_tuple = (1,2,3,4)\n",
        "my_dict = {'name':'Saif','age':22,'city':'Bhagalpur'}\n",
        "print(my_list)\n",
        "print(my_tuple)\n",
        "print(my_dict)"
      ],
      "metadata": {
        "colab": {
          "base_uri": "https://localhost:8080/"
        },
        "id": "KxfILDNRy6nS",
        "outputId": "12be297b-cc2e-462e-9fe4-c942522e68ba"
      },
      "execution_count": 8,
      "outputs": [
        {
          "output_type": "stream",
          "name": "stdout",
          "text": [
            "[1, 2, 3, 4]\n",
            "(1, 2, 3, 4)\n",
            "{'name': 'Saif', 'age': 22, 'city': 'Bhagalpur'}\n"
          ]
        }
      ]
    },
    {
      "cell_type": "code",
      "source": [
        "# 27. Write a code to create a list of 5 random numbers between 1 and 100, sort it in ascending order, and print the result.(replaced)\n",
        "import random\n",
        "my_list = [random.randint(1,100) for _ in range(5)]\n",
        "my_list.sort()\n",
        "print(my_list)"
      ],
      "metadata": {
        "colab": {
          "base_uri": "https://localhost:8080/"
        },
        "id": "zhRtlIuPzFWI",
        "outputId": "0e385b46-8fd7-4545-f13f-731e6bf19c49"
      },
      "execution_count": 10,
      "outputs": [
        {
          "output_type": "stream",
          "name": "stdout",
          "text": [
            "[28, 52, 57, 67, 92]\n"
          ]
        }
      ]
    },
    {
      "cell_type": "code",
      "source": [
        "#28. Write a code to create a list with strings and print the element at the third index.\n",
        "my_list = ['Mango','Apple','Banana','Orange','Grapes']\n",
        "print(my_list[2])"
      ],
      "metadata": {
        "colab": {
          "base_uri": "https://localhost:8080/"
        },
        "id": "2H3s6gZezwNv",
        "outputId": "a349c62f-5603-485f-e946-f3352e636cfe"
      },
      "execution_count": 11,
      "outputs": [
        {
          "output_type": "stream",
          "name": "stdout",
          "text": [
            "Banana\n"
          ]
        }
      ]
    },
    {
      "cell_type": "code",
      "source": [
        "#29. Write a code to combine two dictionaries into one and print the result.\n",
        "dict1 = {\"a\": 1, \"b\": 2}\n",
        "dict2 = {\"c\": 3, \"d\": 4}\n",
        "combined_dict = dict1.copy()\n",
        "combined_dict.update(dict2)\n",
        "print(combined_dict)"
      ],
      "metadata": {
        "colab": {
          "base_uri": "https://localhost:8080/"
        },
        "id": "AHv2zAT7z3PV",
        "outputId": "f524bbed-23cf-430a-8b5e-17745cfcb163"
      },
      "execution_count": 14,
      "outputs": [
        {
          "output_type": "stream",
          "name": "stdout",
          "text": [
            "{'a': 1, 'b': 2, 'c': 3, 'd': 4}\n"
          ]
        }
      ]
    },
    {
      "cell_type": "code",
      "source": [
        "#30. Write a code to convert a list of strings into a set\n",
        "my_list = ['Mango','Apple','Banana','Orange','Grapes']\n",
        "my_set = set(my_list)\n",
        "print(my_set)"
      ],
      "metadata": {
        "colab": {
          "base_uri": "https://localhost:8080/"
        },
        "id": "Xo-lY89m0iyN",
        "outputId": "54556885-a5a9-4895-ef89-b86c5f23f41a"
      },
      "execution_count": 15,
      "outputs": [
        {
          "output_type": "stream",
          "name": "stdout",
          "text": [
            "{'Mango', 'Banana', 'Orange', 'Grapes', 'Apple'}\n"
          ]
        }
      ]
    }
  ]
}