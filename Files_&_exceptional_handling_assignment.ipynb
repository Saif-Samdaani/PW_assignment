{
  "nbformat": 4,
  "nbformat_minor": 0,
  "metadata": {
    "colab": {
      "provenance": []
    },
    "kernelspec": {
      "name": "python3",
      "display_name": "Python 3"
    },
    "language_info": {
      "name": "python"
    }
  },
  "cells": [
    {
      "cell_type": "markdown",
      "source": [
        "# **Theory Question**"
      ],
      "metadata": {
        "id": "dBseTjwCaybO"
      }
    },
    {
      "cell_type": "markdown",
      "source": [
        "1.What is the difference between interpreted and compiled languages?\n",
        "- Interpreted languages are executed line by line, translating each line of code into machine code during runtime. Examples include Python, JavaScript, and Ruby.\n",
        "- Compiled languages are translated entirely into machine code before runtime. Examples include C, C++, and Java.\n",
        "\n",
        "2. What is exception handling in Python?\n",
        "- Exception handling in Python involves using try, except, and optionally finally blocks to catch and deal with errors or exceptional situations that may occur during program execution.\n",
        "   \n",
        "3. What is the purpose of the finally block in exception handling?\n",
        "- The finally block in exception handling ensures that a certain block of code is always executed, whether an exception was raised or not. It is typically used to clean up resources or perform cleanup actions.\n",
        "\n",
        "4. What is logging in Python?\n",
        "- Logging in Python involves the capturing and storing of information about events that occur during program execution. The `logging` module in Python provides a flexible and powerful framework for recording log messages from your code.\n",
        "   \n",
        "5. What is the significance of the del method in Python?\n",
        "- The `del` keyword in Python is used to delete references to objects in memory. This can be used to remove variables, lists, or dictionaries to free up memory space.\n",
        "\n",
        "6. What is the difference between import and from ... import in Python?\n",
        "- `import` is used to import an entire module into your code.\n",
        "- `from ... import` allows you to import specific functions or classes from a module into your code.\n",
        "\n",
        "7. How can you handle multiple exceptions in Python?\n",
        "- Multiple exceptions can be handled using multiple `except` blocks, or by handling a common base class for the exceptions.\n",
        "\n",
        "8.  What is the purpose of the with statement when handling files in Python?\n",
        " - The `with` statement in Python simplifies file management by ensuring that files are properly closed after usage. It acts as a context manager and eliminates the need for explicit `open` and `close` operations.\n",
        "\n",
        "9.  What is the difference between multithreading and multiprocessing?\n",
        "- Multithreading involves multiple threads working in a shared memory space, while multiprocessing involves separate processes with their own memory space.\n",
        "\n",
        "10.  What are the advantages of using logging in a program?\n",
        "-  the advantages of using logging in a program are:-\n",
        "   - Provides a systematic way to report and record program activity.\n",
        "   - Helps in debugging and troubleshooting.\n",
        "   - Helps in tracking program behavior and performance.\n",
        "\n",
        "11. What is memory management in Python?\n",
        "-  Memory management in Python involves the management of the memory allocated to different objects during the program's execution. Python automatically handles memory management through garbage collection to allocate and deallocate memory as needed.\n",
        "\n",
        "12.  What are the basic steps involved in exception handling in Python?\n",
        "- Basic steps involved in exception handling in Python:\n",
        "   - A try block is used to enclose the code that might generate an exception.\n",
        "   - An except block catches and handles exceptions that occur in the try block.\n",
        "   - Optionally, a finally block can be used to execute code regardless of whether an exception occurred.\n",
        "\n",
        "13. Why is memory management important in Python?\n",
        "- Memory management is important in Python to ensure efficient utilization of system resources and prevent memory leaks. Python's garbage collection helps in automatically cleaning up unused memory, reducing the likelihood of memory-related issues.\n",
        "\n",
        "14. What is the role of try and except in exception handling?\n",
        "- The try block is used to contain code that may potentially raise an exception, while the except block is used to specify how to handle the exception if it occurs. The try-except block helps in gracefully handling errors and preventing the program from crashing.\n",
        "\n",
        "15. How does Python's garbage collection system work?\n",
        "- Python's garbage collection system automatically manages memory by detecting and deleting objects that are no longer in use. It uses reference counting and cycle detection algorithms to determine when memory can be reclaimed.\n",
        "\n",
        "16. What is the purpose of the else block in exception handling?\n",
        "- The else block in exception handling is executed when no exceptions are raised within the corresponding try block. It provides a way to run code when no exceptions occur, making the code more readable and structured.\n",
        "\n",
        "17. What are the common logging levels in Python?\n",
        "- Common logging levels in Python include DEBUG, INFO, WARNING, ERROR, and CRITICAL. These levels help in categorizing and prioritizing log messages based on their severity.\n",
        "\n",
        "18. What is the difference between os.fork() and multiprocessing in Python\n",
        "- The difference between os.fork() and multiprocessing in Python is that os.fork() creates a copy of the current process, including its memory space, whereas the multiprocessing module allows for creating separate Python processes with their memory spaces.\n",
        "\n",
        "19. What is the importance of closing a file in Python?\n",
        "- Closing a file in Python is important to release system resources and ensure that any buffered data is written to the file. Failing to close a file can lead to data loss or resource leaks.\n",
        "\n",
        "20. What is the difference between file.read() and file.readline() in Python?\n",
        "- The difference between file.read() and file.readline() in Python is that file.read() reads the entire contents of a file as a single string, while file.readline() reads a single line from the file and advances the file pointer to the next line.\n",
        "\n",
        "21. What is the logging module in Python used for?\n",
        "- The logging module in Python is used for capturing and recording log messages in applications. It provides a flexible and customizable way to manage log messages based on their severity levels.\n",
        "\n",
        "22. What is the os module in Python used for in file handling?\n",
        "- The os module in Python is used for file handling tasks such as checking file existence, renaming files, deleting files, and interacting with the operating system's file system.\n",
        "\n",
        "23. What are the challenges associated with memory management in Python?\n",
        "- Challenges associated with memory management in Python include dealing with memory leaks, inefficient memory usage, and performance bottlenecks. Proper understanding and optimization of memory usage are crucial in managing memory effectively.\n",
        "\n",
        "24.  How do you raise an exception manually in Python?\n",
        "- To raise an exception manually in Python, you can use the raise keyword followed by the desired exception type. For example:\n",
        "\n",
        "\n",
        "\n"
      ],
      "metadata": {
        "id": "SUnmoIMha6Ic"
      }
    },
    {
      "cell_type": "code",
      "source": [
        "raise ValueError(\"Custom error message\")"
      ],
      "metadata": {
        "id": "SryHSvMpeNg-"
      },
      "execution_count": 2,
      "outputs": []
    },
    {
      "cell_type": "markdown",
      "source": [
        "25. Why is it important to use multithreading in certain applications?\n",
        "- Multithreading is important in certain applications to enable concurrent execution of multiple tasks and utilize the available resources efficiently. Multithreading can improve performance by running tasks concurrently and handling tasks that can be parallelized effectively."
      ],
      "metadata": {
        "id": "X86BnlpgePxN"
      }
    },
    {
      "cell_type": "markdown",
      "source": [
        "# **Practical Question**"
      ],
      "metadata": {
        "id": "TluXntjReivE"
      }
    },
    {
      "cell_type": "code",
      "source": [
        "#1.How can you open a file for writing in Python and write a string to it\n",
        "try:\n",
        "    with open(\"my_file.txt\", \"w\") as f:\n",
        "        f.write(\"This is a string written to the file.\\n\")\n",
        "    print(\"String written to file successfully.\")\n",
        "except Exception as e:\n",
        "    print(f\"An error occurred: {e}\")"
      ],
      "metadata": {
        "colab": {
          "base_uri": "https://localhost:8080/"
        },
        "id": "tJIaVckqetHl",
        "outputId": "0035c336-dbbd-4970-d023-194625a62fed"
      },
      "execution_count": 3,
      "outputs": [
        {
          "output_type": "stream",
          "name": "stdout",
          "text": [
            "String written to file successfully.\n"
          ]
        }
      ]
    },
    {
      "cell_type": "code",
      "source": [
        "#2. Write a Python program to read the contents of a file and print each line\n",
        "try:\n",
        "    with open(\"my_file.txt\", \"r\") as f:\n",
        "        for line in f:\n",
        "            print(line, end=\"\")\n",
        "except FileNotFoundError:\n",
        "    print(\"File not found.\")\n",
        "except Exception as e:\n",
        "    print(f\"An error occurred: {e}\")"
      ],
      "metadata": {
        "colab": {
          "base_uri": "https://localhost:8080/"
        },
        "id": "xtlfX3KbfGek",
        "outputId": "09367984-3f1d-4d80-b775-3e567087ac1b"
      },
      "execution_count": 4,
      "outputs": [
        {
          "output_type": "stream",
          "name": "stdout",
          "text": [
            "This is a string written to the file.\n"
          ]
        }
      ]
    },
    {
      "cell_type": "code",
      "source": [
        "#3. How would you handle a case where the file doesn't exist while trying to open it for reading\n",
        "try:\n",
        "    with open(\"nonexistent_file.txt\", \"r\") as f:\n",
        "        contents = f.read()\n",
        "        print(contents)\n",
        "except FileNotFoundError:\n",
        "    print(\"File 'nonexistent_file.txt' does not exist.\")\n",
        "except Exception as e:\n",
        "    print(f\"An error occurred: {e}\")"
      ],
      "metadata": {
        "colab": {
          "base_uri": "https://localhost:8080/"
        },
        "id": "Zg4YE60YfPW0",
        "outputId": "89c1cbe5-ad78-415f-a65f-35edeca9c927"
      },
      "execution_count": 5,
      "outputs": [
        {
          "output_type": "stream",
          "name": "stdout",
          "text": [
            "File 'nonexistent_file.txt' does not exist.\n"
          ]
        }
      ]
    },
    {
      "cell_type": "code",
      "source": [
        "#4. Write a Python script that reads from one file and writes its content to another file\n",
        "try:\n",
        "    with open(\"source.txt\", \"r\") as source_file:\n",
        "        content = source_file.read()\n",
        "\n",
        "    with open(\"destination.txt\", \"w\") as destination_file:\n",
        "        destination_file.write(content)\n",
        "\n",
        "    print(\"File copied successfully.\")\n",
        "\n",
        "except FileNotFoundError:\n",
        "    print(\"One or both source files not found\")\n",
        "except Exception as e:\n",
        "    print(f\"An error occurred: {e}\")"
      ],
      "metadata": {
        "colab": {
          "base_uri": "https://localhost:8080/"
        },
        "id": "ttksFK0kfX-c",
        "outputId": "62712748-0ade-4836-eacc-08bc1b1e3f80"
      },
      "execution_count": 6,
      "outputs": [
        {
          "output_type": "stream",
          "name": "stdout",
          "text": [
            "One or both source files not found\n"
          ]
        }
      ]
    },
    {
      "cell_type": "code",
      "source": [
        "#5.How would you catch and handle division by zero error in Python\n",
        "try:\n",
        "    numerator = 10\n",
        "    denominator = int(input(\"Enter a denominator: \"))\n",
        "    result = numerator / denominator\n",
        "    print(f\"Result: {result}\")\n",
        "except ZeroDivisionError:\n",
        "    print(\"Error: Cannot divide by zero.\")\n",
        "except ValueError:\n",
        "    print(\"Invalid input. Please enter an integer.\")\n",
        "except Exception as e:\n",
        "    print(f\"An error occurred: {e}\")"
      ],
      "metadata": {
        "colab": {
          "base_uri": "https://localhost:8080/"
        },
        "id": "hk8YELNMffB8",
        "outputId": "6d3a88b9-7d55-4999-8613-851fdce2c304"
      },
      "execution_count": 7,
      "outputs": [
        {
          "output_type": "stream",
          "name": "stdout",
          "text": [
            "Enter a denominator: 5\n",
            "Result: 2.0\n"
          ]
        }
      ]
    },
    {
      "cell_type": "code",
      "source": [
        "#6. Write a Python program that logs an error message to a log file when a division by zero exception occurs\n",
        "import logging\n",
        "\n",
        "logging.basicConfig(filename=\"error.log\", level=logging.ERROR,\n",
        "                    format='%(asctime)s - %(levelname)s - %(message)s')\n",
        "try:\n",
        "    numerator = 10\n",
        "    denominator = int(input(\"Enter a denominator: \"))\n",
        "    result = numerator / denominator\n",
        "    print(f\"Result: {result}\")\n",
        "except ZeroDivisionError:\n",
        "    logging.error(\"Division by zero occurred!\")\n",
        "    print(\"Error: Cannot divide by zero.  See error.log for details.\")\n",
        "except ValueError:\n",
        "    print(\"Invalid input\")\n",
        "except Exception as e:\n",
        "    logging.exception(\"An unexpected error occurred\")\n",
        "    print(\"An unexpected error occured\")"
      ],
      "metadata": {
        "colab": {
          "base_uri": "https://localhost:8080/"
        },
        "id": "PlHi0Y-7fmBL",
        "outputId": "3c64764b-5e60-4697-824f-a4862ca6c0f4"
      },
      "execution_count": 8,
      "outputs": [
        {
          "output_type": "stream",
          "name": "stdout",
          "text": [
            "Enter a denominator: 5\n",
            "Result: 2.0\n"
          ]
        }
      ]
    },
    {
      "cell_type": "code",
      "source": [
        "#7. How do you log information at different levels (INFO, ERROR, WARNING) in Python using the logging module\n",
        "import logging\n",
        "logging.basicConfig(filename=\"app.log\", level=logging.DEBUG,\n",
        "                    format='%(asctime)s - %(levelname)s - %(message)s')\n",
        "logging.debug(\"This is a debug message.\")\n",
        "logging.info(\"This is an info message.\")\n",
        "logging.warning(\"This is a warning message.\")\n",
        "logging.error(\"This is an error message.\")\n",
        "logging.critical(\"This is a critical message.\")"
      ],
      "metadata": {
        "colab": {
          "base_uri": "https://localhost:8080/"
        },
        "id": "OCGDuve3f2QV",
        "outputId": "1ead3558-2308-49db-8165-0b3118af61c4"
      },
      "execution_count": 10,
      "outputs": [
        {
          "output_type": "stream",
          "name": "stderr",
          "text": [
            "WARNING:root:This is a warning message.\n",
            "ERROR:root:This is an error message.\n",
            "CRITICAL:root:This is a critical message.\n"
          ]
        }
      ]
    },
    {
      "cell_type": "code",
      "source": [
        "#8. Write a program to handle a file opening error using exception handling\n",
        "try:\n",
        "    with open(\"missing_file.txt\", \"r\") as file:\n",
        "        content = file.read()\n",
        "        print(content)\n",
        "except FileNotFoundError:\n",
        "    print(\"Error: File 'missing_file.txt' not found.\")\n",
        "except Exception as e:\n",
        "    print(f\"An unexpected error occurred: {e}\")"
      ],
      "metadata": {
        "colab": {
          "base_uri": "https://localhost:8080/"
        },
        "id": "i5g1heosgAxU",
        "outputId": "2d789c7a-9715-4faa-83d2-58efaed06335"
      },
      "execution_count": 9,
      "outputs": [
        {
          "output_type": "stream",
          "name": "stdout",
          "text": [
            "Error: File 'missing_file.txt' not found.\n"
          ]
        }
      ]
    },
    {
      "cell_type": "code",
      "source": [
        "#9. How can you read a file line by line and store its content in a list in Python\n",
        "try:\n",
        "    lines = []\n",
        "    with open(\"my_file.txt\", \"r\") as f:\n",
        "        for line in f:\n",
        "            lines.append(line.strip())\n",
        "    print(lines)\n",
        "except FileNotFoundError:\n",
        "    print(\"File not found\")\n",
        "except Exception as e:\n",
        "    print(f\"An error occurred: {e}\")"
      ],
      "metadata": {
        "colab": {
          "base_uri": "https://localhost:8080/"
        },
        "id": "XtVST8F8gHGN",
        "outputId": "4b74cd19-29e6-4eba-ff18-86bbb055f050"
      },
      "execution_count": 11,
      "outputs": [
        {
          "output_type": "stream",
          "name": "stdout",
          "text": [
            "['This is a string written to the file.']\n"
          ]
        }
      ]
    },
    {
      "cell_type": "code",
      "source": [
        "#10. How can you append data to an existing file in Python\n",
        "try:\n",
        "    with open(\"my_file.txt\", \"a\") as f:\n",
        "        f.write(\"This is additional data.\\n\")\n",
        "    print(\"Data appended to file.\")\n",
        "except Exception as e:\n",
        "    print(f\"An error occurred: {e}\")"
      ],
      "metadata": {
        "id": "ln54WQVogP8U"
      },
      "execution_count": null,
      "outputs": []
    },
    {
      "cell_type": "code",
      "source": [
        "#11.  Write a Python program that uses a try-except block to handle an error when attempting to access a dictionary key that doesn't exist\n",
        "my_dict = {\"a\": 1, \"b\": 2}\n",
        "try:\n",
        "    value = my_dict[\"c\"]\n",
        "    print(value)\n",
        "except KeyError:\n",
        "    print(\"Error: Key 'c' not found in the dictionary.\")\n",
        "except Exception as e:\n",
        "    print(f\"An error occurred: {e}\")"
      ],
      "metadata": {
        "colab": {
          "base_uri": "https://localhost:8080/"
        },
        "id": "jduZpI18gWhV",
        "outputId": "a7dce9cd-5060-4281-b060-3afab7018aa0"
      },
      "execution_count": 12,
      "outputs": [
        {
          "output_type": "stream",
          "name": "stdout",
          "text": [
            "Error: Key 'c' not found in the dictionary.\n"
          ]
        }
      ]
    },
    {
      "cell_type": "code",
      "source": [
        "#12. Write a program that demonstrates using multiple except blocks to handle different types of exceptions\n",
        "try:\n",
        "    value = int(input(\"Enter a number: \"))\n",
        "    result = 10 / value\n",
        "    my_list = [1, 2, 3]\n",
        "    print(my_list[value])\n",
        "except ValueError:\n",
        "    print(\"Error: Invalid input. Please enter an integer.\")\n",
        "except ZeroDivisionError:\n",
        "    print(\"Error: Cannot divide by zero.\")\n",
        "except IndexError:\n",
        "    print(\"Error: List index out of range.\")\n",
        "except Exception as e:\n",
        "    print(f\"An unexpected error occurred: {e}\")"
      ],
      "metadata": {
        "colab": {
          "base_uri": "https://localhost:8080/"
        },
        "id": "B9UJX_eUghg9",
        "outputId": "6f294699-5042-498c-8466-3665b28cda37"
      },
      "execution_count": 14,
      "outputs": [
        {
          "output_type": "stream",
          "name": "stdout",
          "text": [
            "Enter a number: 2\n",
            "3\n"
          ]
        }
      ]
    },
    {
      "cell_type": "code",
      "source": [
        "#13. How would you check if a file exists before attempting to read it in Python\n",
        "import os\n",
        "file_path = \"my_file.txt\"\n",
        "\n",
        "if os.path.exists(file_path):\n",
        "    try:\n",
        "        with open(file_path, \"r\") as f:\n",
        "            content = f.read()\n",
        "            print(content)\n",
        "    except Exception as e:\n",
        "        print(f\"An error occurred while reading the file: {e}\")\n",
        "else:\n",
        "    print(f\"File '{file_path}' does not exist.\")"
      ],
      "metadata": {
        "colab": {
          "base_uri": "https://localhost:8080/"
        },
        "id": "rQ0mYIFcgyQV",
        "outputId": "c735fc24-8ed9-4fbc-95ae-9a99d0b7f124"
      },
      "execution_count": 15,
      "outputs": [
        {
          "output_type": "stream",
          "name": "stdout",
          "text": [
            "This is a string written to the file.\n",
            "\n"
          ]
        }
      ]
    },
    {
      "cell_type": "code",
      "source": [
        "#14. Write a program that uses the logging module to log both informational and error messages\n",
        "import logging\n",
        "import os\n",
        "logging.basicConfig(filename=\"app.log\", level=logging.INFO,\n",
        "                    format='%(asctime)s - %(levelname)s - %(message)s')\n",
        "\n",
        "def process_file(file_path):\n",
        "    logging.info(f\"Processing file: {file_path}\")\n",
        "    try:\n",
        "        if not os.path.exists(file_path):\n",
        "            raise FileNotFoundError(f\"File '{file_path}' not found.\")\n",
        "\n",
        "        with open(file_path, \"r\") as f:\n",
        "            content = f.read()\n",
        "            print(content)\n",
        "        logging.info(f\"Successfully processed file: {file_path}\")\n",
        "\n",
        "    except FileNotFoundError as e:\n",
        "        logging.error(str(e))\n",
        "        print(str(e)) #Print to user\n",
        "    except Exception as e:\n",
        "        logging.exception(f\"An error occurred while processing file: {file_path}\")\n",
        "        print(f\"An error occurred: {e}\") #Print to user\n",
        "\n",
        "process_file(\"my_file.txt\")"
      ],
      "metadata": {
        "colab": {
          "base_uri": "https://localhost:8080/"
        },
        "id": "WqBgF6PPg6Rl",
        "outputId": "10761e2f-ab53-48a0-d3d4-3c8cbe020e13"
      },
      "execution_count": 16,
      "outputs": [
        {
          "output_type": "stream",
          "name": "stdout",
          "text": [
            "This is a string written to the file.\n",
            "\n"
          ]
        }
      ]
    },
    {
      "cell_type": "code",
      "source": [
        "#15. Write a Python program that prints the content of a file and handles the case when the file is empty\n",
        "try:\n",
        "    with open(\"my_file.txt\", \"r\") as f:\n",
        "        content = f.read()\n",
        "        if not content:\n",
        "            print(\"File is empty.\")\n",
        "        else:\n",
        "            print(content)\n",
        "except FileNotFoundError:\n",
        "    print(\"File not found.\")\n",
        "except Exception as e:\n",
        "    print(f\"An error occurred: {e}\")"
      ],
      "metadata": {
        "colab": {
          "base_uri": "https://localhost:8080/"
        },
        "id": "eNQv50krhEbV",
        "outputId": "175d7358-55c5-40d8-95f0-c4744640aa16"
      },
      "execution_count": 22,
      "outputs": [
        {
          "output_type": "stream",
          "name": "stdout",
          "text": [
            "This is a string written to the file.\n",
            "\n"
          ]
        }
      ]
    },
    {
      "cell_type": "code",
      "source": [
        "#16.Demonstrate how to use memory profiling to check the memory usage of a small program\n",
        "import memory_profiler\n",
        "import time\n",
        "\n",
        "@memory_profiler.profile\n",
        "def my_function():\n",
        "    my_list = list(range(1000000))\n",
        "    time.sleep(1)\n",
        "    del my_list\n",
        "    return 0\n",
        "\n",
        "if __name__ == \"__main__\":\n",
        "    my_function()\n",
        "\n"
      ],
      "metadata": {
        "id": "PBDy2v_1hITN"
      },
      "execution_count": 24,
      "outputs": []
    },
    {
      "cell_type": "code",
      "source": [
        "#17.Write a Python program to create and write a list of numbers to a file, one number per line\n",
        "numbers = list(range(1, 11))\n",
        "\n",
        "try:\n",
        "    with open(\"numbers.txt\", \"w\") as f:\n",
        "        for number in numbers:\n",
        "            f.write(str(number) + \"\\n\")\n",
        "    print(\"Numbers written to file successfully.\")\n",
        "except Exception as e:\n",
        "    print(f\"An error occurred: {e}\")"
      ],
      "metadata": {
        "colab": {
          "base_uri": "https://localhost:8080/"
        },
        "id": "ZQYv4IlkiLw-",
        "outputId": "44a8f6d4-13ab-4539-f9ae-94d1d4ba046c"
      },
      "execution_count": 25,
      "outputs": [
        {
          "output_type": "stream",
          "name": "stdout",
          "text": [
            "Numbers written to file successfully.\n"
          ]
        }
      ]
    },
    {
      "cell_type": "code",
      "source": [
        "#18.How would you implement a basic logging setup that logs to a file with rotation after 1MB\n",
        "import logging\n",
        "import logging.handlers\n",
        "import os\n",
        "\n",
        "log_file = \"app.log\"\n",
        "log_level = logging.INFO\n",
        "log_max_bytes = 1024 * 1024\n",
        "log_backup_count = 5\n",
        "\n",
        "# Create logger\n",
        "logger = logging.getLogger()\n",
        "logger.setLevel(log_level)\n",
        "\n",
        "# Create rotating file handler\n",
        "handler = logging.handlers.RotatingFileHandler(\n",
        "    log_file,\n",
        "    maxBytes=log_max_bytes,\n",
        "    backupCount=log_backup_count,\n",
        "    encoding='utf-8'\n",
        ")\n",
        "\n",
        "# Create formatter\n",
        "formatter = logging.Formatter('%(asctime)s - %(levelname)s - %(message)s')\n",
        "handler.setFormatter(formatter)\n",
        "\n",
        "# Add handler to logger\n",
        "logger.addHandler(handler)\n",
        "\n",
        "# Example usage\n",
        "logger.info(\"Application started.\")\n",
        "for i in range(20):\n",
        "  logger.info(f\"Processing {i}\")"
      ],
      "metadata": {
        "colab": {
          "base_uri": "https://localhost:8080/"
        },
        "id": "XLXzFRbuiQKE",
        "outputId": "d23a51b4-992f-46e7-ed5c-d32a23e2fa75"
      },
      "execution_count": 26,
      "outputs": [
        {
          "output_type": "stream",
          "name": "stderr",
          "text": [
            "INFO:root:Application started.\n",
            "INFO:root:Processing 0\n",
            "INFO:root:Processing 1\n",
            "INFO:root:Processing 2\n",
            "INFO:root:Processing 3\n",
            "INFO:root:Processing 4\n",
            "INFO:root:Processing 5\n",
            "INFO:root:Processing 6\n",
            "INFO:root:Processing 7\n",
            "INFO:root:Processing 8\n",
            "INFO:root:Processing 9\n",
            "INFO:root:Processing 10\n",
            "INFO:root:Processing 11\n",
            "INFO:root:Processing 12\n",
            "INFO:root:Processing 13\n",
            "INFO:root:Processing 14\n",
            "INFO:root:Processing 15\n",
            "INFO:root:Processing 16\n",
            "INFO:root:Processing 17\n",
            "INFO:root:Processing 18\n",
            "INFO:root:Processing 19\n"
          ]
        }
      ]
    },
    {
      "cell_type": "code",
      "source": [
        "#19.  Write a program that handles both IndexError and KeyError using a try-except block\n",
        "my_list = [1, 2, 3]\n",
        "my_dict = {\"a\": 1, \"b\": 2}\n",
        "\n",
        "try:\n",
        "    index = int(input(\"Enter an index for the list: \"))\n",
        "    value = my_list[index]\n",
        "    print(f\"List value at index {index}: {value}\")\n",
        "\n",
        "    key = input(\"Enter a key for the dictionary: \")\n",
        "    dict_value = my_dict[key]\n",
        "    print(f\"Dictionary value for key '{key}': {dict_value}\")\n",
        "\n",
        "except IndexError:\n",
        "    print(\"Error: List index out of range.\")\n",
        "except KeyError:\n",
        "    print(\"Error: Key not found in the dictionary.\")\n",
        "except ValueError:\n",
        "    print(\"Invalid Input: non-integer supplied for list index\")\n",
        "except Exception as e:\n",
        "    print(f\"An unexpected error occurred: {e}\")"
      ],
      "metadata": {
        "colab": {
          "base_uri": "https://localhost:8080/"
        },
        "id": "pdR-dRo0il0O",
        "outputId": "1c4c4650-f395-44b2-da5e-9c2ea3eaa77b"
      },
      "execution_count": 27,
      "outputs": [
        {
          "output_type": "stream",
          "name": "stdout",
          "text": [
            "Enter an index for the list: 2\n",
            "List value at index 2: 3\n",
            "Enter a key for the dictionary: b\n",
            "Dictionary value for key 'b': 2\n"
          ]
        }
      ]
    },
    {
      "cell_type": "code",
      "source": [
        "#20.How would you open a file and read its contents using a context manager in Python\n",
        "try:\n",
        "    with open(\"my_file.txt\", \"r\") as f:\n",
        "        content = f.read()\n",
        "        print(content)\n",
        "except FileNotFoundError:\n",
        "    print(\"File not found.\")\n",
        "except Exception as e:\n",
        "    print(f\"An error occurred: {e}\")"
      ],
      "metadata": {
        "colab": {
          "base_uri": "https://localhost:8080/"
        },
        "id": "tUj_-wHEiwYt",
        "outputId": "98f3d9fb-7d6d-4f72-dbb1-3ab641d41714"
      },
      "execution_count": 28,
      "outputs": [
        {
          "output_type": "stream",
          "name": "stdout",
          "text": [
            "This is a string written to the file.\n",
            "\n"
          ]
        }
      ]
    },
    {
      "cell_type": "code",
      "source": [
        "#21.Write a Python program that reads a file and prints the number of occurrences of a specific word\n",
        "def count_word_occurrences(file_path, word):\n",
        "    try:\n",
        "        with open(file_path, \"r\") as f:\n",
        "            content = f.read().lower()\n",
        "            count = content.count(word.lower())\n",
        "            return count\n",
        "    except FileNotFoundError:\n",
        "        print(\"File not found.\")\n",
        "        return None\n",
        "\n",
        "file_path = \"my_file.txt\"\n",
        "word_to_count = \"the\"\n",
        "occurrences = count_word_occurrences(file_path, word_to_count)\n",
        "\n",
        "if occurrences is not None:\n",
        "    print(f\"The word '{word_to_count}' appears {occurrences} times in the file.\")"
      ],
      "metadata": {
        "colab": {
          "base_uri": "https://localhost:8080/"
        },
        "id": "tOQAwbhTi3n_",
        "outputId": "01219921-893a-48c5-cde7-9df5b400830b"
      },
      "execution_count": 29,
      "outputs": [
        {
          "output_type": "stream",
          "name": "stdout",
          "text": [
            "The word 'the' appears 1 times in the file.\n"
          ]
        }
      ]
    },
    {
      "cell_type": "code",
      "source": [
        "#22.How can you check if a file is empty before attempting to read its contents\n",
        "import os\n",
        "\n",
        "def is_file_empty(file_path):\n",
        "    return os.path.exists(file_path) and os.stat(file_path).st_size == 0\n",
        "\n",
        "file_path = \"my_file.txt\"\n",
        "if is_file_empty(file_path):\n",
        "    print(\"File is empty.\")\n",
        "else:\n",
        "    try:\n",
        "        with open(file_path, \"r\") as f:\n",
        "            content = f.read()\n",
        "            print(content)\n",
        "    except FileNotFoundError:\n",
        "        print(\"File not found.\")\n",
        "    except Exception as e:\n",
        "        print(f\"An error occurred: {e}\")"
      ],
      "metadata": {
        "colab": {
          "base_uri": "https://localhost:8080/"
        },
        "id": "oJzXTgRPi_4l",
        "outputId": "d22b3a66-04ad-425a-b231-0c0246f4d04f"
      },
      "execution_count": 30,
      "outputs": [
        {
          "output_type": "stream",
          "name": "stdout",
          "text": [
            "This is a string written to the file.\n",
            "\n"
          ]
        }
      ]
    },
    {
      "cell_type": "code",
      "source": [
        "#23. Write a Python program that writes to a log file when an error occurs during file handling\n",
        "import logging\n",
        "logging.basicConfig(filename=\"file_errors.log\", level=logging.ERROR,\n",
        "                    format='%(asctime)s - %(levelname)s - %(message)s')\n",
        "\n",
        "try:\n",
        "    with open(\"potentially_problematic_file.txt\", \"r\") as f:\n",
        "        content = f.read()\n",
        "        print(content)\n",
        "\n",
        "except FileNotFoundError:\n",
        "    logging.error(\"File not found: potentially_problematic_file.txt\")\n",
        "    print(\"Error: File not found.  See file_errors.log for details.\")\n",
        "\n",
        "except Exception as e:\n",
        "    logging.exception(f\"An error occurred during file handling: {e}\")\n",
        "    print(f\"An error occurred: {e} . See file_errors.log for details.\")"
      ],
      "metadata": {
        "colab": {
          "base_uri": "https://localhost:8080/"
        },
        "id": "48j8dsFRjGIc",
        "outputId": "99b68938-99e6-4969-8335-45e35063be5e"
      },
      "execution_count": 31,
      "outputs": [
        {
          "output_type": "stream",
          "name": "stderr",
          "text": [
            "ERROR:root:File not found: potentially_problematic_file.txt\n"
          ]
        },
        {
          "output_type": "stream",
          "name": "stdout",
          "text": [
            "Error: File not found.  See file_errors.log for details.\n"
          ]
        }
      ]
    }
  ]
}