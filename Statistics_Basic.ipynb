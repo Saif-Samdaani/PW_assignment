{
  "nbformat": 4,
  "nbformat_minor": 0,
  "metadata": {
    "colab": {
      "provenance": []
    },
    "kernelspec": {
      "name": "python3",
      "display_name": "Python 3"
    },
    "language_info": {
      "name": "python"
    }
  },
  "cells": [
    {
      "cell_type": "markdown",
      "source": [
        "1.  What is the difference between descriptive statistics and inferential statistics? Explain with examples.\n",
        "- Descriptive statistics involves methods of organizing, summarizing, and presenting data in a meaningful way. It helps in describing the basic features of the data in a study. Descriptive statistics do not involve making inferences or predictions beyond the data provided.\n",
        "  - Example: Let's say you have collected the heights of students in a class. Descriptive statistics would involve calculating measures such as the mean height, median height, range of heights, and constructing a histogram to visually represent the distribution of heights.\n",
        "\n",
        "- Inferential statistics involves using sample data to make inferences or predictions about a population. It allows us to draw conclusions about a population based on data collected from a sample, taking into account the variability within the sample.\n",
        "  - Example: If you want to know whether the average height of students in your school is representative of the average height of all students in the country, you would use inferential statistics. You could take a sample of students from your school, calculate the average height, and then infer whether it is statistically significant enough to make a conclusion about the entire population.\n",
        "\n",
        "2.  What is sampling in statistics? Explain the differences between random\n",
        "and stratified sampling.\n",
        "- sampling refers to the process of selecting a subset of individuals or items from a larger population, with the aim of making inferences about the population based on the characteristics of the sample. Sampling is a crucial aspect of statistical analysis, as it is often impractical or impossible to collect data from an entire population.\n",
        "    - Random sampling: In random sampling, every member of the population has an equal likelihood of being chosen for the sample. This method helps to eliminate bias and ensure that the sample is representative of the population as a whole. Simple random sampling involves selecting individuals randomly from the population without any specific criteria. This method is often used when the population is homogeneous.\n",
        "     - Stratified sampling: In stratified sampling, the population is divided into subgroups, or strata, based on certain characteristics that are relevant to the research objectives. Then, random samples are taken from each stratum. This method is useful when the population is heterogeneous and different subgroups have different characteristics that are important to the study. Stratified sampling allows researchers to ensure that each subgroup is adequately represented in the sample.\n",
        "\n",
        "3. Define mean, median, and mode. Explain why these measures of central\n",
        "tendency are important.\n",
        "-  Mean: The mean is the average of a set of numbers calculated by adding all the numbers together and then dividing by the total count of numbers.\n",
        "- Median: The median is the middle value in a set of numbers when they are arranged in numerical order. If there is an even number of values, the median is the average of the two middle values.\n",
        "- Mode: The mode is the value that appears most frequently in a set of numbers.\n",
        "  - These measures of central tendency help to summarize a data set by providing insights into its central or typical values. They are important because they provide a way to understand and interpret a data set by identifying the most common or representative values.\n",
        "\n",
        "4. Explain skewness and kurtosis. What does a positive skew imply about the data?\n",
        "- Skewness measures the asymmetry of the distribution of data. A distribution is considered symmetric if the left and right sides are mirror images of each other. Skewness can be positive, negative, or zero.\n",
        "- Kurtosis measures the peakedness or flatness of a distribution relative to a normal distribution. A normal distribution has a kurtosis of 3\n",
        "  - A positive skew in the data indicates that the distribution is skewed to the right, meaning that there are more data points on the left side of the distribution tail. This suggests that there may be outliers or extreme values on the right side of the distribution.\n",
        "\n"
      ],
      "metadata": {
        "id": "kXvwYLdYoQ7H"
      }
    },
    {
      "cell_type": "code",
      "source": [
        "#5.Implement a Python program to compute the mean, median, and mode of a given list of numbers.\n",
        "#numbers = [12, 15, 12, 18, 19, 12, 20, 22, 19, 19, 24, 24, 24, 26, 28]\n",
        "from statistics import mean, median, mode\n",
        "\n",
        "numbers = [12, 15, 12, 18, 19, 12, 20, 22, 19, 19, 24, 24, 24, 26, 28]\n",
        "\n",
        "mean_result = mean(numbers)\n",
        "median_result = median(numbers)\n",
        "mode_result = mode(numbers)\n",
        "\n",
        "print(\"Mean:\", mean_result)\n",
        "print(\"Median:\", median_result)\n",
        "print(\"Mode:\", mode_result)\n",
        "\n"
      ],
      "metadata": {
        "colab": {
          "base_uri": "https://localhost:8080/"
        },
        "id": "0mtup22RrEy6",
        "outputId": "da7a4a0f-2bf8-458d-eccf-78348f9a6fc6"
      },
      "execution_count": 1,
      "outputs": [
        {
          "output_type": "stream",
          "name": "stdout",
          "text": [
            "Mean: 19.6\n",
            "Median: 19\n",
            "Mode: 12\n"
          ]
        }
      ]
    },
    {
      "cell_type": "code",
      "source": [
        "'''6. Compute the covariance and correlation coefficient between the following\n",
        "two datasets provided as lists in Python:\n",
        "list_x = [10, 20, 30, 40, 50]\n",
        "list_y = [15, 25, 35, 45, 60]'''\n",
        "import numpy as np\n",
        "\n",
        "list_x = [10, 20, 30, 40, 50]\n",
        "list_y = [15, 25, 35, 45, 60]\n",
        "\n",
        "covariance_matrix = np.cov([list_x, list_y])\n",
        "covariance = covariance_matrix[0][1]\n",
        "\n",
        "correlation_matrix = np.corrcoef([list_x, list_y])\n",
        "correlation_coefficient = correlation_matrix[0][1]\n",
        "\n",
        "print(f\"The covariance between the two datasets is: {covariance}\")\n",
        "print(f\"The correlation coefficient between the two datasets is: {correlation_coefficient}\")"
      ],
      "metadata": {
        "colab": {
          "base_uri": "https://localhost:8080/"
        },
        "id": "6hbb9epesJux",
        "outputId": "d3005c91-7360-4da8-f2fa-64ddb969b3ef"
      },
      "execution_count": 2,
      "outputs": [
        {
          "output_type": "stream",
          "name": "stdout",
          "text": [
            "The covariance between the two datasets is: 275.0\n",
            "The correlation coefficient between the two datasets is: 0.995893206467704\n"
          ]
        }
      ]
    },
    {
      "cell_type": "code",
      "source": [
        "'''7. Write a Python script to draw a boxplot for the following numeric list and\n",
        "identify its outliers. Explain the result:\n",
        "data = [12, 14, 14, 15, 18, 19, 19, 21, 22, 22, 23, 23, 24, 26, 29, 35] '''\n",
        "import matplotlib.pyplot as plt\n",
        "\n",
        "data = [12, 14, 14, 15, 18, 19, 19, 21, 22, 22, 23, 23, 24, 26, 29, 35]\n",
        "\n",
        "plt.boxplot(data)\n",
        "plt.title('Boxplot of Data')\n",
        "plt.show()\n",
        "\n",
        "q1 = np.percentile(data, 25)\n",
        "q3 = np.percentile(data, 75)\n",
        "iqr = q3 - q1\n",
        "lower_bound = q1 - 1.5 * iqr\n",
        "upper_bound = q3 + 1.5 * iqr\n",
        "\n",
        "outliers = [x for x in data if x < lower_bound or x > upper_bound]\n",
        "print(\"Outliers:\", outliers)"
      ],
      "metadata": {
        "colab": {
          "base_uri": "https://localhost:8080/",
          "height": 470
        },
        "id": "WGAfTfdKsdtm",
        "outputId": "3664f64b-6f04-4733-bc48-561497bb98c0"
      },
      "execution_count": 3,
      "outputs": [
        {
          "output_type": "display_data",
          "data": {
            "text/plain": [
              "<Figure size 640x480 with 1 Axes>"
            ],
            "image/png": "[encoded data removed]"
          },
          "metadata": {}
        },
        {
          "output_type": "stream",
          "name": "stdout",
          "text": [
            "Outliers: [35]\n"
          ]
        }
      ]
    },
    {
      "cell_type": "markdown",
      "source": [
        "8.  You are working as a data analyst in an e-commerce company. The\n",
        "marketing team wants to know if there is a relationship between advertising spend and daily sales.  Explain how you would use covariance and correlation to explore this\n",
        "relationship.\n",
        "- In order to explore relationship using covariance and correlation we have do the following steps:-\n",
        "  - Calculate the covariance between advertising spend and daily sales to see if there is a directional relationship.A positive covariance would suggest that higher ad spend is associated with higher sales\n",
        "  -  Compute Correlation: Calculate the Pearson correlation coefficient to assess both the strength and direction of the linear relationship.\n",
        "  - A statistically significant positive correlation would provide evidence that increasing advertising spend is likely to lead to increased daily sales."
      ],
      "metadata": {
        "id": "Iey7w9RitEpB"
      }
    },
    {
      "cell_type": "code",
      "source": [
        "''' Write Python code to compute the correlation between the two lists:\n",
        "advertising_spend = [200, 250, 300, 400, 500]\n",
        "daily_sales = [2200, 2450, 2750, 3200, 4000]'''\n",
        "import numpy as np\n",
        "\n",
        "advertising_spend = [200, 250, 300, 400, 500]\n",
        "daily_sales = [2200, 2450, 2750, 3200, 4000]\n",
        "\n",
        "ad_spend_array = np.array(advertising_spend)\n",
        "daily_sales_array = np.array(daily_sales)\n",
        "\n",
        "covariance = np.cov(ad_spend_array, daily_sales_array)[0][1]\n",
        "print(f\"Covariance between advertising spend and daily sales: {covariance}\")\n",
        "\n",
        "correlation = np.corrcoef(ad_spend_array, daily_sales_array)[0][1]\n",
        "print(f\"Correlation between advertising spend and daily sales: {correlation}\")\n"
      ],
      "metadata": {
        "colab": {
          "base_uri": "https://localhost:8080/"
        },
        "id": "hdI5Cvd4t6oy",
        "outputId": "a160f87e-67b6-44dd-cfff-0e2cca80b4fd"
      },
      "execution_count": 4,
      "outputs": [
        {
          "output_type": "stream",
          "name": "stdout",
          "text": [
            "Covariance between advertising spend and daily sales: 84875.0\n",
            "Correlation between advertising spend and daily sales: 0.9935824101653329\n"
          ]
        }
      ]
    },
    {
      "cell_type": "markdown",
      "source": [
        "9. Your team has collected customer satisfaction survey data on a scale of\n",
        "1-10 and wants to understand its distribution before launching a new product.Explain which summary statistics and visualizations (e.g. mean, standard deviation, histogram) you’d use.\n",
        "- To understand the distribution of customer satisfaction survey data on a scale of 1-10, we can use a variety of summary statistics and visualizations\n",
        "  - Summary Statistics\n",
        "    - Mean: The average score, which provides a central value for the data.\n",
        "    -  Median: The middle value when the scores are sorted, which gives insight into the distribution, especially if it is skewed.\n",
        "    - Mode: The most frequently occurring score, indicating the most common level of satisfaction.\n",
        "    - Standard Deviation: A measure of the dispersion or spread of the scores around the mean. A low standard deviation indicates that scores are close to the mean, while a high standard deviation indicates more variability.\n",
        "    - Range: The difference between the maximum and minimum scores, giving a sense of the overall spread of the data.\n",
        "  \n",
        "  - Visualizations\n",
        "    - Histogram: A histogram will help visualize the frequency distribution of the survey scores, showing how many respondents gave each score.\n",
        "    - Box Plot: A box plot can provide insights into the median, quartiles, and potential outliers in the data.\n",
        "    - Bar Chart: If you want to visualize the frequency of each unique score, a bar chart can be useful.\n"
      ],
      "metadata": {
        "id": "soRo7AM4ul0m"
      }
    },
    {
      "cell_type": "code",
      "source": [
        "'''Write Python code to create a histogram using Matplotlib for the survey data:\n",
        "survey_scores = [7, 8, 5, 9, 6, 7, 8, 9, 10, 4, 7, 6, 9, 8, 7]'''\n",
        "import matplotlib.pyplot as plt\n",
        "survey_scores = [7, 8, 5, 9, 6, 7, 8, 9, 10, 4, 7, 6, 9, 8, 7]\n",
        "\n",
        "plt.figure(figsize=(8, 6))\n",
        "plt.hist(survey_scores, bins=range(1, 12), edgecolor='black', alpha=0.7)\n",
        "\n",
        "plt.title('Customer Satisfaction Survey Distribution')\n",
        "plt.xlabel('Survey Scores (1-10)')\n",
        "plt.ylabel('Frequency')\n",
        "plt.xticks(range(1, 11))\n",
        "\n",
        "plt.grid(axis='y', alpha=0.75)\n",
        "plt.show()\n"
      ],
      "metadata": {
        "colab": {
          "base_uri": "https://localhost:8080/",
          "height": 564
        },
        "id": "by7qfodqubP2",
        "outputId": "b65c5226-7ea7-45b2-9faf-89ede6bfafca"
      },
      "execution_count": 5,
      "outputs": [
        {
          "output_type": "display_data",
          "data": {
            "text/plain": [
              "<Figure size 800x600 with 1 Axes>"
            ],
            "image/png": "[encoded data removed]"
          },
          "metadata": {}
        }
      ]
    }
  ]
}